{
 "cells": [
  {
   "cell_type": "code",
   "execution_count": 1,
   "metadata": {},
   "outputs": [
    {
     "name": "stderr",
     "output_type": "stream",
     "text": [
      "Using TensorFlow backend.\n"
     ]
    }
   ],
   "source": [
    "import numpy as np\n",
    "import tensorflow as tf\n",
    "import matplotlib.cm as cm\n",
    "from matplotlib import pyplot as plt \n",
    "from keras.models import Sequential, Model\n",
    "from keras.layers import Activation, Dropout, Flatten, Dense, merge, Reshape, Permute, Multiply\n",
    "from keras.layers import Input\n",
    "from keras import backend as K\n",
    "from keras.engine.topology import Layer\n",
    "\n",
    "# packages for learning from crowds\n",
    "from crowd_layer.crowd_layers import CrowdsClassification, MaskedMultiCrossEntropy\n",
    "from crowd_layer.crowd_aggregators import CrowdsCategoricalAggregator\n",
    "\n",
    "# prevent tensorflow from allocating the entire GPU memory at once\n",
    "config = tf.ConfigProto()\n",
    "config.gpu_options.allow_growth=True\n",
    "sess = tf.Session(config=config)"
   ]
  },
  {
   "cell_type": "code",
   "execution_count": 17,
   "metadata": {
    "collapsed": true
   },
   "outputs": [],
   "source": [
    "NUM_RUNS = 30\n",
    "DATA_PATH = \"/Users/yangyajing/Documents/noisy_dataset/LabelMe/prepared/\"\n",
    "N_CLASSES = 8\n",
    "BATCH_SIZE = 64\n",
    "N_EPOCHS = 30\n",
    "W = 0"
   ]
  },
  {
   "cell_type": "code",
   "execution_count": 3,
   "metadata": {
    "collapsed": true
   },
   "outputs": [],
   "source": [
    "def load_data(filename):\n",
    "    f = open(filename, 'rb')\n",
    "    data = np.load(f)\n",
    "    f.close()\n",
    "    return data"
   ]
  },
  {
   "cell_type": "code",
   "execution_count": 4,
   "metadata": {},
   "outputs": [
    {
     "name": "stdout",
     "output_type": "stream",
     "text": [
      "\n",
      "Loading train data...\n",
      "(10000, 4, 4, 512)\n",
      "(10000,)\n",
      "(10000,)\n",
      "(10000,)\n",
      "\n",
      "Loading AMT data...\n",
      "(10000, 59)\n",
      "\n",
      "N_CLASSES: 8\n",
      "N_ANNOT: 59\n",
      "\n",
      "Loading test data...\n",
      "(1188, 4, 4, 512)\n",
      "(1188,)\n"
     ]
    }
   ],
   "source": [
    "print(\"\\nLoading train data...\")\n",
    "\n",
    "# images processed by VGG16\n",
    "data_train_vgg16 = load_data(DATA_PATH+\"data_train_vgg16.npy\")\n",
    "print(data_train_vgg16.shape)\n",
    "\n",
    "# ground truth labels\n",
    "labels_train = load_data(DATA_PATH+\"labels_train.npy\")\n",
    "print(labels_train.shape)\n",
    "\n",
    "# labels obtained from majority voting\n",
    "labels_train_mv = load_data(DATA_PATH+\"labels_train_mv.npy\")\n",
    "print(labels_train_mv.shape)\n",
    "\n",
    "# labels obtained by using the approach by Dawid and Skene\n",
    "labels_train_ds = load_data(DATA_PATH+\"labels_train_DS.npy\")\n",
    "print(labels_train_ds.shape)\n",
    "\n",
    "# data from Amazon Mechanical Turk\n",
    "print(\"\\nLoading AMT data...\")\n",
    "answers = load_data(DATA_PATH+\"answers.npy\")\n",
    "print(answers.shape)\n",
    "N_ANNOT = answers.shape[1]\n",
    "print(\"\\nN_CLASSES:\", N_CLASSES)\n",
    "print(\"N_ANNOT:\", N_ANNOT)\n",
    "\n",
    "# load test data\n",
    "print(\"\\nLoading test data...\")\n",
    "\n",
    "# images processed by VGG16\n",
    "data_test_vgg16 = load_data(DATA_PATH+\"data_test_vgg16.npy\")\n",
    "print(data_test_vgg16.shape)\n",
    "\n",
    "# test labels\n",
    "labels_test = load_data(DATA_PATH+\"labels_test.npy\")\n",
    "print(labels_test.shape)"
   ]
  },
  {
   "cell_type": "code",
   "execution_count": 5,
   "metadata": {
    "collapsed": true
   },
   "outputs": [],
   "source": [
    "def one_hot(target, n_classes):\n",
    "    targets = np.array([target]).reshape(-1)\n",
    "    one_hot_targets = np.eye(n_classes)[targets]\n",
    "    return one_hot_targets"
   ]
  },
  {
   "cell_type": "code",
   "execution_count": 6,
   "metadata": {},
   "outputs": [
    {
     "name": "stdout",
     "output_type": "stream",
     "text": [
      "\n",
      "Converting to one-hot encoding...\n",
      "(10000, 8)\n",
      "(10000, 8)\n",
      "(10000, 8)\n",
      "(1188, 8)\n"
     ]
    },
    {
     "data": {
      "text/plain": [
       "(10000, 8, 59)"
      ]
     },
     "execution_count": 6,
     "metadata": {},
     "output_type": "execute_result"
    }
   ],
   "source": [
    "print(\"\\nConverting to one-hot encoding...\")\n",
    "labels_train_bin = one_hot(labels_train, N_CLASSES)\n",
    "print(labels_train_bin.shape)\n",
    "labels_train_mv_bin = one_hot(labels_train_mv, N_CLASSES)\n",
    "print(labels_train_mv_bin.shape)\n",
    "labels_train_ds_bin = one_hot(labels_train_ds, N_CLASSES)\n",
    "print(labels_train_ds_bin.shape)\n",
    "labels_test_bin = one_hot(labels_test, N_CLASSES)\n",
    "print(labels_test_bin.shape)\n",
    "\n",
    "answers_bin_missings = []\n",
    "for i in range(len(answers)):\n",
    "    row = []\n",
    "    for r in range(N_ANNOT):\n",
    "        if answers[i,r] == -1:\n",
    "            row.append(-1 * np.ones(N_CLASSES))\n",
    "        else:\n",
    "            row.append(one_hot(answers[i,r], N_CLASSES)[0,:])\n",
    "    answers_bin_missings.append(row)\n",
    "answers_bin_missings = np.array(answers_bin_missings).swapaxes(1,2)\n",
    "answers_bin_missings.shape"
   ]
  },
  {
   "cell_type": "code",
   "execution_count": 7,
   "metadata": {},
   "outputs": [
    {
     "data": {
      "text/plain": [
       "(1188, 8, 59)"
      ]
     },
     "execution_count": 7,
     "metadata": {},
     "output_type": "execute_result"
    }
   ],
   "source": [
    "answers_test_bin_missings = np.zeros((len(labels_test), N_CLASSES))\n",
    "answers_test_bin_missings[np.arange(len(labels_test)), labels_test] = 1\n",
    "answers_test_bin_missings = np.repeat(answers_test_bin_missings.reshape([len(labels_test),N_CLASSES,1]), N_ANNOT, axis=2)\n",
    "answers_test_bin_missings.shape"
   ]
  },
  {
   "cell_type": "code",
   "execution_count": 8,
   "metadata": {
    "collapsed": true
   },
   "outputs": [],
   "source": [
    "def eval(model,y_test):\n",
    "    return dict(zip(model.metrics_names,model.evaluate(data_test_vgg16,y_test, verbose=False)))"
   ]
  },
  {
   "cell_type": "code",
   "execution_count": null,
   "metadata": {
    "collapsed": true
   },
   "outputs": [],
   "source": []
  },
  {
   "cell_type": "code",
   "execution_count": 9,
   "metadata": {},
   "outputs": [
    {
     "data": {
      "text/plain": [
       "array([[-0.60846025, -2.7198483 , -2.71769437, -2.71264534, -2.71279536,\n",
       "        -2.71974188, -2.71387189, -2.71309373],\n",
       "       [-2.71853129, -0.61556844, -2.72062736, -2.7194094 , -2.71426949,\n",
       "        -2.71796426, -2.72201468, -2.71358326],\n",
       "       [-2.7214227 , -2.71382941, -0.61017251, -2.72226906, -2.71738096,\n",
       "        -2.7153441 , -2.71540738, -2.7133386 ],\n",
       "       [-2.71839219, -2.71948669, -2.71500308, -0.61173184, -2.71462957,\n",
       "        -2.71607297, -2.71291541, -2.71672126],\n",
       "       [-2.72219101, -2.71297304, -2.72223327, -2.7129742 , -0.61615523,\n",
       "        -2.714629  , -2.72237577, -2.72186359],\n",
       "       [-2.71798827, -2.71299412, -2.72198147, -2.7130777 , -2.71762434,\n",
       "        -0.60953332, -2.71321924, -2.72189385],\n",
       "       [-2.71732214, -2.72019996, -2.71855707, -2.71387811, -2.71251387,\n",
       "        -2.7201515 , -0.61306523, -2.71801958],\n",
       "       [-2.71244193, -2.71954322, -2.71818404, -2.71775781, -2.714386  ,\n",
       "        -2.72104864, -2.72153473, -0.60895601]])"
      ]
     },
     "execution_count": 9,
     "metadata": {},
     "output_type": "execute_result"
    }
   ],
   "source": [
    "APRIOR_NOISE=0.46\n",
    "bias_weights = (\n",
    "    np.array([np.array([np.log(1. - APRIOR_NOISE)\n",
    "                        if i == j else\n",
    "                        np.log(APRIOR_NOISE / (N_CLASSES - 1.))\n",
    "                        for j in range(N_CLASSES)]) for i in\n",
    "              range(N_CLASSES)])\n",
    "    + 0.01 * np.random.random((N_CLASSES, N_CLASSES)))\n",
    "# bias_weights = np.repeat(bias_weights, N_ANNOT, axis=1)\n",
    "bias_weights"
   ]
  },
  {
   "cell_type": "code",
   "execution_count": 10,
   "metadata": {
    "scrolled": false
   },
   "outputs": [
    {
     "name": "stdout",
     "output_type": "stream",
     "text": [
      "WARNING:tensorflow:From /Users/yangyajing/anaconda/lib/python3.6/site-packages/keras/backend/tensorflow_backend.py:1205: calling reduce_prod (from tensorflow.python.ops.math_ops) with keep_dims is deprecated and will be removed in a future version.\n",
      "Instructions for updating:\n",
      "keep_dims is deprecated, use keepdims instead\n",
      "Tensor(\"sequential_1/dropout_1/cond/Merge:0\", shape=(?, 128), dtype=float32)\n"
     ]
    },
    {
     "name": "stderr",
     "output_type": "stream",
     "text": [
      "/Users/yangyajing/anaconda/lib/python3.6/site-packages/ipykernel_launcher.py:23: UserWarning: The `merge` function is deprecated and will be removed after 08/2017. Use instead layers from `keras.layers.merge`, e.g. `add`, `concatenate`, etc.\n",
      "/Users/yangyajing/anaconda/lib/python3.6/site-packages/keras/legacy/layers.py:458: UserWarning: The `Merge` layer is deprecated and will be removed after 08/2017. Use instead layers from `keras.layers.merge`, e.g. `add`, `concatenate`, etc.\n",
      "  name=name)\n",
      "/Users/yangyajing/anaconda/lib/python3.6/site-packages/ipykernel_launcher.py:28: UserWarning: The `merge` function is deprecated and will be removed after 08/2017. Use instead layers from `keras.layers.merge`, e.g. `add`, `concatenate`, etc.\n"
     ]
    },
    {
     "name": "stdout",
     "output_type": "stream",
     "text": [
      "Tensor(\"merge_1/concat:0\", shape=(?, 64), dtype=float32)\n",
      "Tensor(\"reshape_1/Reshape:0\", shape=(?, 8, 8), dtype=float32)\n",
      "Tensor(\"channeled_annot0/Squeeze:0\", shape=(?, 8), dtype=float32)\n",
      "Tensor(\"merge_2/concat:0\", shape=(?, 64), dtype=float32)\n",
      "Tensor(\"reshape_2/Reshape:0\", shape=(?, 8, 8), dtype=float32)\n",
      "Tensor(\"channeled_annot1/Squeeze:0\", shape=(?, 8), dtype=float32)\n",
      "Tensor(\"merge_3/concat:0\", shape=(?, 64), dtype=float32)\n",
      "Tensor(\"reshape_3/Reshape:0\", shape=(?, 8, 8), dtype=float32)\n",
      "Tensor(\"channeled_annot2/Squeeze:0\", shape=(?, 8), dtype=float32)\n",
      "Tensor(\"merge_4/concat:0\", shape=(?, 64), dtype=float32)\n",
      "Tensor(\"reshape_4/Reshape:0\", shape=(?, 8, 8), dtype=float32)\n",
      "Tensor(\"channeled_annot3/Squeeze:0\", shape=(?, 8), dtype=float32)\n",
      "Tensor(\"merge_5/concat:0\", shape=(?, 64), dtype=float32)\n",
      "Tensor(\"reshape_5/Reshape:0\", shape=(?, 8, 8), dtype=float32)\n",
      "Tensor(\"channeled_annot4/Squeeze:0\", shape=(?, 8), dtype=float32)\n",
      "Tensor(\"merge_6/concat:0\", shape=(?, 64), dtype=float32)\n",
      "Tensor(\"reshape_6/Reshape:0\", shape=(?, 8, 8), dtype=float32)\n",
      "Tensor(\"channeled_annot5/Squeeze:0\", shape=(?, 8), dtype=float32)\n",
      "Tensor(\"merge_7/concat:0\", shape=(?, 64), dtype=float32)\n",
      "Tensor(\"reshape_7/Reshape:0\", shape=(?, 8, 8), dtype=float32)\n",
      "Tensor(\"channeled_annot6/Squeeze:0\", shape=(?, 8), dtype=float32)\n",
      "Tensor(\"merge_8/concat:0\", shape=(?, 64), dtype=float32)\n",
      "Tensor(\"reshape_8/Reshape:0\", shape=(?, 8, 8), dtype=float32)\n",
      "Tensor(\"channeled_annot7/Squeeze:0\", shape=(?, 8), dtype=float32)\n",
      "Tensor(\"merge_9/concat:0\", shape=(?, 64), dtype=float32)\n",
      "Tensor(\"reshape_9/Reshape:0\", shape=(?, 8, 8), dtype=float32)\n",
      "Tensor(\"channeled_annot8/Squeeze:0\", shape=(?, 8), dtype=float32)\n",
      "Tensor(\"merge_10/concat:0\", shape=(?, 64), dtype=float32)\n",
      "Tensor(\"reshape_10/Reshape:0\", shape=(?, 8, 8), dtype=float32)\n",
      "Tensor(\"channeled_annot9/Squeeze:0\", shape=(?, 8), dtype=float32)\n",
      "Tensor(\"merge_11/concat:0\", shape=(?, 64), dtype=float32)\n",
      "Tensor(\"reshape_11/Reshape:0\", shape=(?, 8, 8), dtype=float32)\n",
      "Tensor(\"channeled_annot10/Squeeze:0\", shape=(?, 8), dtype=float32)\n",
      "Tensor(\"merge_12/concat:0\", shape=(?, 64), dtype=float32)\n",
      "Tensor(\"reshape_12/Reshape:0\", shape=(?, 8, 8), dtype=float32)\n",
      "Tensor(\"channeled_annot11/Squeeze:0\", shape=(?, 8), dtype=float32)\n",
      "Tensor(\"merge_13/concat:0\", shape=(?, 64), dtype=float32)\n",
      "Tensor(\"reshape_13/Reshape:0\", shape=(?, 8, 8), dtype=float32)\n",
      "Tensor(\"channeled_annot12/Squeeze:0\", shape=(?, 8), dtype=float32)\n",
      "Tensor(\"merge_14/concat:0\", shape=(?, 64), dtype=float32)\n",
      "Tensor(\"reshape_14/Reshape:0\", shape=(?, 8, 8), dtype=float32)\n",
      "Tensor(\"channeled_annot13/Squeeze:0\", shape=(?, 8), dtype=float32)\n",
      "Tensor(\"merge_15/concat:0\", shape=(?, 64), dtype=float32)\n",
      "Tensor(\"reshape_15/Reshape:0\", shape=(?, 8, 8), dtype=float32)\n",
      "Tensor(\"channeled_annot14/Squeeze:0\", shape=(?, 8), dtype=float32)\n",
      "Tensor(\"merge_16/concat:0\", shape=(?, 64), dtype=float32)\n",
      "Tensor(\"reshape_16/Reshape:0\", shape=(?, 8, 8), dtype=float32)\n",
      "Tensor(\"channeled_annot15/Squeeze:0\", shape=(?, 8), dtype=float32)\n",
      "Tensor(\"merge_17/concat:0\", shape=(?, 64), dtype=float32)\n",
      "Tensor(\"reshape_17/Reshape:0\", shape=(?, 8, 8), dtype=float32)\n",
      "Tensor(\"channeled_annot16/Squeeze:0\", shape=(?, 8), dtype=float32)\n",
      "Tensor(\"merge_18/concat:0\", shape=(?, 64), dtype=float32)\n",
      "Tensor(\"reshape_18/Reshape:0\", shape=(?, 8, 8), dtype=float32)\n",
      "Tensor(\"channeled_annot17/Squeeze:0\", shape=(?, 8), dtype=float32)\n",
      "Tensor(\"merge_19/concat:0\", shape=(?, 64), dtype=float32)\n",
      "Tensor(\"reshape_19/Reshape:0\", shape=(?, 8, 8), dtype=float32)\n",
      "Tensor(\"channeled_annot18/Squeeze:0\", shape=(?, 8), dtype=float32)\n",
      "Tensor(\"merge_20/concat:0\", shape=(?, 64), dtype=float32)\n",
      "Tensor(\"reshape_20/Reshape:0\", shape=(?, 8, 8), dtype=float32)\n",
      "Tensor(\"channeled_annot19/Squeeze:0\", shape=(?, 8), dtype=float32)\n",
      "Tensor(\"merge_21/concat:0\", shape=(?, 64), dtype=float32)\n",
      "Tensor(\"reshape_21/Reshape:0\", shape=(?, 8, 8), dtype=float32)\n",
      "Tensor(\"channeled_annot20/Squeeze:0\", shape=(?, 8), dtype=float32)\n",
      "Tensor(\"merge_22/concat:0\", shape=(?, 64), dtype=float32)\n",
      "Tensor(\"reshape_22/Reshape:0\", shape=(?, 8, 8), dtype=float32)\n",
      "Tensor(\"channeled_annot21/Squeeze:0\", shape=(?, 8), dtype=float32)\n",
      "Tensor(\"merge_23/concat:0\", shape=(?, 64), dtype=float32)\n",
      "Tensor(\"reshape_23/Reshape:0\", shape=(?, 8, 8), dtype=float32)\n",
      "Tensor(\"channeled_annot22/Squeeze:0\", shape=(?, 8), dtype=float32)\n",
      "Tensor(\"merge_24/concat:0\", shape=(?, 64), dtype=float32)\n",
      "Tensor(\"reshape_24/Reshape:0\", shape=(?, 8, 8), dtype=float32)\n",
      "Tensor(\"channeled_annot23/Squeeze:0\", shape=(?, 8), dtype=float32)\n",
      "Tensor(\"merge_25/concat:0\", shape=(?, 64), dtype=float32)\n",
      "Tensor(\"reshape_25/Reshape:0\", shape=(?, 8, 8), dtype=float32)\n",
      "Tensor(\"channeled_annot24/Squeeze:0\", shape=(?, 8), dtype=float32)\n",
      "Tensor(\"merge_26/concat:0\", shape=(?, 64), dtype=float32)\n",
      "Tensor(\"reshape_26/Reshape:0\", shape=(?, 8, 8), dtype=float32)\n",
      "Tensor(\"channeled_annot25/Squeeze:0\", shape=(?, 8), dtype=float32)\n",
      "Tensor(\"merge_27/concat:0\", shape=(?, 64), dtype=float32)\n",
      "Tensor(\"reshape_27/Reshape:0\", shape=(?, 8, 8), dtype=float32)\n",
      "Tensor(\"channeled_annot26/Squeeze:0\", shape=(?, 8), dtype=float32)\n",
      "Tensor(\"merge_28/concat:0\", shape=(?, 64), dtype=float32)\n",
      "Tensor(\"reshape_28/Reshape:0\", shape=(?, 8, 8), dtype=float32)\n",
      "Tensor(\"channeled_annot27/Squeeze:0\", shape=(?, 8), dtype=float32)\n",
      "Tensor(\"merge_29/concat:0\", shape=(?, 64), dtype=float32)\n",
      "Tensor(\"reshape_29/Reshape:0\", shape=(?, 8, 8), dtype=float32)\n",
      "Tensor(\"channeled_annot28/Squeeze:0\", shape=(?, 8), dtype=float32)\n",
      "Tensor(\"merge_30/concat:0\", shape=(?, 64), dtype=float32)\n",
      "Tensor(\"reshape_30/Reshape:0\", shape=(?, 8, 8), dtype=float32)\n",
      "Tensor(\"channeled_annot29/Squeeze:0\", shape=(?, 8), dtype=float32)\n",
      "Tensor(\"merge_31/concat:0\", shape=(?, 64), dtype=float32)\n",
      "Tensor(\"reshape_31/Reshape:0\", shape=(?, 8, 8), dtype=float32)\n",
      "Tensor(\"channeled_annot30/Squeeze:0\", shape=(?, 8), dtype=float32)\n",
      "Tensor(\"merge_32/concat:0\", shape=(?, 64), dtype=float32)\n",
      "Tensor(\"reshape_32/Reshape:0\", shape=(?, 8, 8), dtype=float32)\n",
      "Tensor(\"channeled_annot31/Squeeze:0\", shape=(?, 8), dtype=float32)\n",
      "Tensor(\"merge_33/concat:0\", shape=(?, 64), dtype=float32)\n",
      "Tensor(\"reshape_33/Reshape:0\", shape=(?, 8, 8), dtype=float32)\n",
      "Tensor(\"channeled_annot32/Squeeze:0\", shape=(?, 8), dtype=float32)\n",
      "Tensor(\"merge_34/concat:0\", shape=(?, 64), dtype=float32)\n",
      "Tensor(\"reshape_34/Reshape:0\", shape=(?, 8, 8), dtype=float32)\n",
      "Tensor(\"channeled_annot33/Squeeze:0\", shape=(?, 8), dtype=float32)\n",
      "Tensor(\"merge_35/concat:0\", shape=(?, 64), dtype=float32)\n",
      "Tensor(\"reshape_35/Reshape:0\", shape=(?, 8, 8), dtype=float32)\n",
      "Tensor(\"channeled_annot34/Squeeze:0\", shape=(?, 8), dtype=float32)\n",
      "Tensor(\"merge_36/concat:0\", shape=(?, 64), dtype=float32)\n",
      "Tensor(\"reshape_36/Reshape:0\", shape=(?, 8, 8), dtype=float32)\n",
      "Tensor(\"channeled_annot35/Squeeze:0\", shape=(?, 8), dtype=float32)\n",
      "Tensor(\"merge_37/concat:0\", shape=(?, 64), dtype=float32)\n",
      "Tensor(\"reshape_37/Reshape:0\", shape=(?, 8, 8), dtype=float32)\n",
      "Tensor(\"channeled_annot36/Squeeze:0\", shape=(?, 8), dtype=float32)\n",
      "Tensor(\"merge_38/concat:0\", shape=(?, 64), dtype=float32)\n",
      "Tensor(\"reshape_38/Reshape:0\", shape=(?, 8, 8), dtype=float32)\n",
      "Tensor(\"channeled_annot37/Squeeze:0\", shape=(?, 8), dtype=float32)\n",
      "Tensor(\"merge_39/concat:0\", shape=(?, 64), dtype=float32)\n",
      "Tensor(\"reshape_39/Reshape:0\", shape=(?, 8, 8), dtype=float32)\n",
      "Tensor(\"channeled_annot38/Squeeze:0\", shape=(?, 8), dtype=float32)\n",
      "Tensor(\"merge_40/concat:0\", shape=(?, 64), dtype=float32)\n",
      "Tensor(\"reshape_40/Reshape:0\", shape=(?, 8, 8), dtype=float32)\n",
      "Tensor(\"channeled_annot39/Squeeze:0\", shape=(?, 8), dtype=float32)\n",
      "Tensor(\"merge_41/concat:0\", shape=(?, 64), dtype=float32)\n",
      "Tensor(\"reshape_41/Reshape:0\", shape=(?, 8, 8), dtype=float32)\n",
      "Tensor(\"channeled_annot40/Squeeze:0\", shape=(?, 8), dtype=float32)\n",
      "Tensor(\"merge_42/concat:0\", shape=(?, 64), dtype=float32)\n",
      "Tensor(\"reshape_42/Reshape:0\", shape=(?, 8, 8), dtype=float32)\n",
      "Tensor(\"channeled_annot41/Squeeze:0\", shape=(?, 8), dtype=float32)\n",
      "Tensor(\"merge_43/concat:0\", shape=(?, 64), dtype=float32)\n",
      "Tensor(\"reshape_43/Reshape:0\", shape=(?, 8, 8), dtype=float32)\n",
      "Tensor(\"channeled_annot42/Squeeze:0\", shape=(?, 8), dtype=float32)\n",
      "Tensor(\"merge_44/concat:0\", shape=(?, 64), dtype=float32)\n",
      "Tensor(\"reshape_44/Reshape:0\", shape=(?, 8, 8), dtype=float32)\n",
      "Tensor(\"channeled_annot43/Squeeze:0\", shape=(?, 8), dtype=float32)\n"
     ]
    },
    {
     "name": "stdout",
     "output_type": "stream",
     "text": [
      "Tensor(\"merge_45/concat:0\", shape=(?, 64), dtype=float32)\n",
      "Tensor(\"reshape_45/Reshape:0\", shape=(?, 8, 8), dtype=float32)\n",
      "Tensor(\"channeled_annot44/Squeeze:0\", shape=(?, 8), dtype=float32)\n",
      "Tensor(\"merge_46/concat:0\", shape=(?, 64), dtype=float32)\n",
      "Tensor(\"reshape_46/Reshape:0\", shape=(?, 8, 8), dtype=float32)\n",
      "Tensor(\"channeled_annot45/Squeeze:0\", shape=(?, 8), dtype=float32)\n",
      "Tensor(\"merge_47/concat:0\", shape=(?, 64), dtype=float32)\n",
      "Tensor(\"reshape_47/Reshape:0\", shape=(?, 8, 8), dtype=float32)\n",
      "Tensor(\"channeled_annot46/Squeeze:0\", shape=(?, 8), dtype=float32)\n",
      "Tensor(\"merge_48/concat:0\", shape=(?, 64), dtype=float32)\n",
      "Tensor(\"reshape_48/Reshape:0\", shape=(?, 8, 8), dtype=float32)\n",
      "Tensor(\"channeled_annot47/Squeeze:0\", shape=(?, 8), dtype=float32)\n",
      "Tensor(\"merge_49/concat:0\", shape=(?, 64), dtype=float32)\n",
      "Tensor(\"reshape_49/Reshape:0\", shape=(?, 8, 8), dtype=float32)\n",
      "Tensor(\"channeled_annot48/Squeeze:0\", shape=(?, 8), dtype=float32)\n",
      "Tensor(\"merge_50/concat:0\", shape=(?, 64), dtype=float32)\n",
      "Tensor(\"reshape_50/Reshape:0\", shape=(?, 8, 8), dtype=float32)\n",
      "Tensor(\"channeled_annot49/Squeeze:0\", shape=(?, 8), dtype=float32)\n",
      "Tensor(\"merge_51/concat:0\", shape=(?, 64), dtype=float32)\n",
      "Tensor(\"reshape_51/Reshape:0\", shape=(?, 8, 8), dtype=float32)\n",
      "Tensor(\"channeled_annot50/Squeeze:0\", shape=(?, 8), dtype=float32)\n",
      "Tensor(\"merge_52/concat:0\", shape=(?, 64), dtype=float32)\n",
      "Tensor(\"reshape_52/Reshape:0\", shape=(?, 8, 8), dtype=float32)\n",
      "Tensor(\"channeled_annot51/Squeeze:0\", shape=(?, 8), dtype=float32)\n",
      "Tensor(\"merge_53/concat:0\", shape=(?, 64), dtype=float32)\n",
      "Tensor(\"reshape_53/Reshape:0\", shape=(?, 8, 8), dtype=float32)\n",
      "Tensor(\"channeled_annot52/Squeeze:0\", shape=(?, 8), dtype=float32)\n",
      "Tensor(\"merge_54/concat:0\", shape=(?, 64), dtype=float32)\n",
      "Tensor(\"reshape_54/Reshape:0\", shape=(?, 8, 8), dtype=float32)\n",
      "Tensor(\"channeled_annot53/Squeeze:0\", shape=(?, 8), dtype=float32)\n",
      "Tensor(\"merge_55/concat:0\", shape=(?, 64), dtype=float32)\n",
      "Tensor(\"reshape_55/Reshape:0\", shape=(?, 8, 8), dtype=float32)\n",
      "Tensor(\"channeled_annot54/Squeeze:0\", shape=(?, 8), dtype=float32)\n",
      "Tensor(\"merge_56/concat:0\", shape=(?, 64), dtype=float32)\n",
      "Tensor(\"reshape_56/Reshape:0\", shape=(?, 8, 8), dtype=float32)\n",
      "Tensor(\"channeled_annot55/Squeeze:0\", shape=(?, 8), dtype=float32)\n",
      "Tensor(\"merge_57/concat:0\", shape=(?, 64), dtype=float32)\n",
      "Tensor(\"reshape_57/Reshape:0\", shape=(?, 8, 8), dtype=float32)\n",
      "Tensor(\"channeled_annot56/Squeeze:0\", shape=(?, 8), dtype=float32)\n",
      "Tensor(\"merge_58/concat:0\", shape=(?, 64), dtype=float32)\n",
      "Tensor(\"reshape_58/Reshape:0\", shape=(?, 8, 8), dtype=float32)\n",
      "Tensor(\"channeled_annot57/Squeeze:0\", shape=(?, 8), dtype=float32)\n",
      "Tensor(\"merge_59/concat:0\", shape=(?, 64), dtype=float32)\n",
      "Tensor(\"reshape_59/Reshape:0\", shape=(?, 8, 8), dtype=float32)\n",
      "Tensor(\"channeled_annot58/Squeeze:0\", shape=(?, 8), dtype=float32)\n",
      "Tensor(\"merge_60/concat:0\", shape=(?, 472), dtype=float32)\n",
      "Tensor(\"reshape_60/Reshape:0\", shape=(?, 59, 8), dtype=float32)\n",
      "Tensor(\"permute_1/transpose:0\", shape=(?, 8, 59), dtype=float32)\n"
     ]
    },
    {
     "name": "stderr",
     "output_type": "stream",
     "text": [
      "/Users/yangyajing/anaconda/lib/python3.6/site-packages/ipykernel_launcher.py:32: UserWarning: The `merge` function is deprecated and will be removed after 08/2017. Use instead layers from `keras.layers.merge`, e.g. `add`, `concatenate`, etc.\n"
     ]
    }
   ],
   "source": [
    "hidden_layers = Sequential()\n",
    "hidden_layers.add(Flatten(input_shape=data_train_vgg16.shape[1:]))\n",
    "hidden_layers.add(Dense(128, activation='relu'))\n",
    "hidden_layers.add(Dropout(0.5))\n",
    "\n",
    "train_inputs = Input(shape=(data_train_vgg16.shape[1:]))\n",
    "last_hidden = hidden_layers(train_inputs)\n",
    "baseline_output = Dense(N_CLASSES, activation='softmax', name='baseline')(last_hidden)\n",
    "print(last_hidden)\n",
    "\n",
    "# add crowds layer on top of the base model\n",
    "# channeled_output = CrowdsClassification(N_CLASSES, N_ANNOT)(baseline_output)\n",
    "channeled_output = []\n",
    "for w in range(59):\n",
    "    channel_matrix = [Dense(N_CLASSES,\n",
    "                            activation='softmax',\n",
    "                            name='dense_class%d_annot%d'%(i,w),\n",
    "                            weights=[\n",
    "                                W*(np.random.random((128,N_CLASSES)) - 0.5),\n",
    "                                bias_weights[i]\n",
    "                            ])(last_hidden)\n",
    "                      for i in range(N_CLASSES)]\n",
    "    channel_matrix = merge(channel_matrix, mode='concat')\n",
    "    channel_matrix = Reshape((N_CLASSES, N_CLASSES))(channel_matrix)\n",
    "\n",
    "    channeled_output_w = merge([channel_matrix, baseline_output], mode='dot', dot_axes=(1,1), name='channeled_annot%d'%w)\n",
    "    channeled_output.append(channeled_output_w)\n",
    "\n",
    "mask = np.equal(y_true[:,0,:], -1)\n",
    "zer = tf.zeros_like(vec)\n",
    "loss = tf.where(mask, x=zer, y=vec)\n",
    "\n",
    "channeled_output = merge(channeled_output, mode='concat')\n",
    "channeled_output = Reshape((-1, N_CLASSES))(channeled_output)\n",
    "channeled_output = Permute((2,1))(channeled_output)\n",
    "channeled_output = Multiply([channeled_output, mask])\n",
    "print(channeled_output)\n",
    "\n",
    "simple_model = Model(inputs=train_inputs, outputs=[channeled_output, baseline_output])"
   ]
  },
  {
   "cell_type": "code",
   "execution_count": 13,
   "metadata": {},
   "outputs": [
    {
     "name": "stdout",
     "output_type": "stream",
     "text": [
      "WARNING:tensorflow:From /Users/yangyajing/Documents/GitHub/CrowdLayer/crowd_layer/crowd_layers.py:268: softmax_cross_entropy_with_logits (from tensorflow.python.ops.nn_ops) is deprecated and will be removed in a future version.\n",
      "Instructions for updating:\n",
      "\n",
      "Future major versions of TensorFlow will allow gradients to flow\n",
      "into the labels input on backprop by default.\n",
      "\n",
      "See @{tf.nn.softmax_cross_entropy_with_logits_v2}.\n",
      "\n",
      "WARNING:tensorflow:From /Users/yangyajing/anaconda/lib/python3.6/site-packages/keras/backend/tensorflow_backend.py:1290: calling reduce_mean (from tensorflow.python.ops.math_ops) with keep_dims is deprecated and will be removed in a future version.\n",
      "Instructions for updating:\n",
      "keep_dims is deprecated, use keepdims instead\n",
      "WARNING:tensorflow:From /Users/yangyajing/anaconda/lib/python3.6/site-packages/keras/backend/tensorflow_backend.py:2755: calling reduce_sum (from tensorflow.python.ops.math_ops) with keep_dims is deprecated and will be removed in a future version.\n",
      "Instructions for updating:\n",
      "keep_dims is deprecated, use keepdims instead\n"
     ]
    }
   ],
   "source": [
    "# instantiate specialized masked loss to handle missing answers\n",
    "loss = MaskedMultiCrossEntropy().loss\n",
    "\n",
    "# compile model with masked loss and train\n",
    "simple_model.compile(optimizer='adam', \n",
    "                     loss=[loss,'categorical_crossentropy'], \n",
    "                     loss_weights=[1,0],\n",
    "                     metrics=['accuracy']\n",
    "                    )"
   ]
  },
  {
   "cell_type": "code",
   "execution_count": 18,
   "metadata": {
    "scrolled": false
   },
   "outputs": [
    {
     "name": "stdout",
     "output_type": "stream",
     "text": [
      "Epoch 1/30\n",
      "10000/10000 [==============================] - 13s - loss: 0.0596 - permute_1_loss: 0.0596 - baseline_loss: 4.4838 - permute_1_acc: 0.0118 - baseline_acc: 0.6873    \n",
      "Epoch 2/30\n",
      "10000/10000 [==============================] - 12s - loss: 0.0594 - permute_1_loss: 0.0594 - baseline_loss: 4.4908 - permute_1_acc: 0.0123 - baseline_acc: 0.6889    \n",
      "Epoch 3/30\n",
      "10000/10000 [==============================] - 12s - loss: 0.0592 - permute_1_loss: 0.0592 - baseline_loss: 4.4702 - permute_1_acc: 0.0132 - baseline_acc: 0.6922    \n",
      "Epoch 4/30\n",
      "10000/10000 [==============================] - 12s - loss: 0.0588 - permute_1_loss: 0.0588 - baseline_loss: 4.4654 - permute_1_acc: 0.0137 - baseline_acc: 0.6936    \n",
      "Epoch 5/30\n",
      "10000/10000 [==============================] - 13s - loss: 0.0587 - permute_1_loss: 0.0587 - baseline_loss: 4.4136 - permute_1_acc: 0.0138 - baseline_acc: 0.6930    - ETA: 7s - loss: 0.0584 - p\n",
      "Epoch 6/30\n",
      "10000/10000 [==============================] - 13s - loss: 0.0586 - permute_1_loss: 0.0586 - baseline_loss: 4.4158 - permute_1_acc: 0.0139 - baseline_acc: 0.6950    \n",
      "Epoch 7/30\n",
      "10000/10000 [==============================] - 12s - loss: 0.0585 - permute_1_loss: 0.0585 - baseline_loss: 4.4024 - permute_1_acc: 0.0148 - baseline_acc: 0.6949    \n",
      "Epoch 8/30\n",
      "10000/10000 [==============================] - 14s - loss: 0.0584 - permute_1_loss: 0.0584 - baseline_loss: 4.4562 - permute_1_acc: 0.0150 - baseline_acc: 0.6941    - ETA: 7s - loss: 0.0585 - permute\n",
      "Epoch 9/30\n",
      "10000/10000 [==============================] - 14s - loss: 0.0582 - permute_1_loss: 0.0582 - baseline_loss: 4.4186 - permute_1_acc: 0.0155 - baseline_acc: 0.6960    - ETA: 7s - loss: 0.0581 - permute_1_loss: 0.0581 - ETA: 1s - loss: 0.0582 - permute_1_loss: 0.0582 - baseline_loss: 4.4335 - permute_1_acc: 0.0154 - baseli\n",
      "Epoch 10/30\n",
      "10000/10000 [==============================] - 17s - loss: 0.0581 - permute_1_loss: 0.0581 - baseline_loss: 4.4224 - permute_1_acc: 0.0155 - baseline_acc: 0.6948    \n",
      "Epoch 11/30\n",
      "10000/10000 [==============================] - 14s - loss: 0.0580 - permute_1_loss: 0.0580 - baseline_loss: 4.4536 - permute_1_acc: 0.0167 - baseline_acc: 0.6966    \n",
      "Epoch 12/30\n",
      "10000/10000 [==============================] - 12s - loss: 0.0580 - permute_1_loss: 0.0580 - baseline_loss: 4.2578 - permute_1_acc: 0.0172 - baseline_acc: 0.7020    \n",
      "Epoch 13/30\n",
      "10000/10000 [==============================] - 12s - loss: 0.0580 - permute_1_loss: 0.0580 - baseline_loss: 4.2288 - permute_1_acc: 0.0170 - baseline_acc: 0.7031    \n",
      "Epoch 14/30\n",
      "10000/10000 [==============================] - 12s - loss: 0.0579 - permute_1_loss: 0.0579 - baseline_loss: 4.2641 - permute_1_acc: 0.0175 - baseline_acc: 0.7021    \n",
      "Epoch 15/30\n",
      "10000/10000 [==============================] - 14s - loss: 0.0577 - permute_1_loss: 0.0577 - baseline_loss: 4.2700 - permute_1_acc: 0.0181 - baseline_acc: 0.7035    - ETA: 2s - loss: 0.0577 - permute_1_loss: 0.0577 - baseline_loss: 4.2185 - permute_1_acc: 0.0\n",
      "Epoch 16/30\n",
      "10000/10000 [==============================] - 15s - loss: 0.0577 - permute_1_loss: 0.0577 - baseline_loss: 4.3052 - permute_1_acc: 0.0180 - baseline_acc: 0.7029      ETA: 13s - loss: 0.0576 - permute_1_loss: 0.0576 - baseline_loss: 4.4625 - per\n",
      "Epoch 17/30\n",
      "10000/10000 [==============================] - 14s - loss: 0.0577 - permute_1_loss: 0.0577 - baseline_loss: 4.1750 - permute_1_acc: 0.0185 - baseline_acc: 0.7067    \n",
      "Epoch 18/30\n",
      "10000/10000 [==============================] - 12s - loss: 0.0577 - permute_1_loss: 0.0577 - baseline_loss: 4.2008 - permute_1_acc: 0.0186 - baseline_acc: 0.7053    \n",
      "Epoch 19/30\n",
      "10000/10000 [==============================] - 15s - loss: 0.0576 - permute_1_loss: 0.0576 - baseline_loss: 4.2675 - permute_1_acc: 0.0200 - baseline_acc: 0.7052    \n",
      "Epoch 20/30\n",
      "10000/10000 [==============================] - 14s - loss: 0.0577 - permute_1_loss: 0.0577 - baseline_loss: 4.2375 - permute_1_acc: 0.0186 - baseline_acc: 0.7070    \n",
      "Epoch 21/30\n",
      "10000/10000 [==============================] - 15s - loss: 0.0575 - permute_1_loss: 0.0575 - baseline_loss: 4.2310 - permute_1_acc: 0.0207 - baseline_acc: 0.7086    \n",
      "Epoch 22/30\n",
      "10000/10000 [==============================] - 13s - loss: 0.0575 - permute_1_loss: 0.0575 - baseline_loss: 4.2525 - permute_1_acc: 0.0201 - baseline_acc: 0.7079    \n",
      "Epoch 23/30\n",
      "10000/10000 [==============================] - 16s - loss: 0.0575 - permute_1_loss: 0.0575 - baseline_loss: 4.1374 - permute_1_acc: 0.0190 - baseline_acc: 0.7122    \n",
      "Epoch 24/30\n",
      "10000/10000 [==============================] - 15s - loss: 0.0574 - permute_1_loss: 0.0574 - baseline_loss: 4.1895 - permute_1_acc: 0.0198 - baseline_acc: 0.7116    \n",
      "Epoch 25/30\n",
      "10000/10000 [==============================] - 13s - loss: 0.0574 - permute_1_loss: 0.0574 - baseline_loss: 4.2177 - permute_1_acc: 0.0207 - baseline_acc: 0.7090    \n",
      "Epoch 26/30\n",
      "10000/10000 [==============================] - 15s - loss: 0.0574 - permute_1_loss: 0.0574 - baseline_loss: 4.2266 - permute_1_acc: 0.0215 - baseline_acc: 0.7113    - ETA: 3s - loss: 0.0576 - permute_1_loss: 0.0576 - baseline_loss: 4.1992 - per\n",
      "Epoch 27/30\n",
      "10000/10000 [==============================] - 14s - loss: 0.0573 - permute_1_loss: 0.0573 - baseline_loss: 4.0701 - permute_1_acc: 0.0206 - baseline_acc: 0.7145      ETA: 10s - loss: 0\n",
      "Epoch 28/30\n",
      "10000/10000 [==============================] - 14s - loss: 0.0574 - permute_1_loss: 0.0574 - baseline_loss: 4.1600 - permute_1_acc: 0.0206 - baseline_acc: 0.7127    \n",
      "Epoch 29/30\n",
      "10000/10000 [==============================] - 13s - loss: 0.0573 - permute_1_loss: 0.0573 - baseline_loss: 4.1164 - permute_1_acc: 0.0201 - baseline_acc: 0.7126    \n",
      "Epoch 30/30\n",
      "10000/10000 [==============================] - 13s - loss: 0.0573 - permute_1_loss: 0.0573 - baseline_loss: 4.1442 - permute_1_acc: 0.0221 - baseline_acc: 0.7146    \n"
     ]
    },
    {
     "data": {
      "text/plain": [
       "<keras.callbacks.History at 0x1508f32b0>"
      ]
     },
     "execution_count": 18,
     "metadata": {},
     "output_type": "execute_result"
    }
   ],
   "source": [
    "simple_model.fit(data_train_vgg16, [answers_bin_missings, labels_train_mv_bin], epochs=N_EPOCHS, shuffle=True, batch_size=BATCH_SIZE, verbose=1)"
   ]
  },
  {
   "cell_type": "code",
   "execution_count": 19,
   "metadata": {},
   "outputs": [
    {
     "data": {
      "text/plain": [
       "{'baseline_acc': 0.6978114478114478,\n",
       " 'baseline_loss': 3.783887464992125,\n",
       " 'loss': 1.6680947823155208,\n",
       " 'permute_1_acc': 0.049663299663299666,\n",
       " 'permute_1_loss': 1.6680947823155208}"
      ]
     },
     "execution_count": 19,
     "metadata": {},
     "output_type": "execute_result"
    }
   ],
   "source": [
    "eval(simple_model,y_test=[answers_test_bin_missings,labels_test_bin])"
   ]
  },
  {
   "cell_type": "code",
   "execution_count": null,
   "metadata": {
    "scrolled": false
   },
   "outputs": [],
   "source": []
  },
  {
   "cell_type": "code",
   "execution_count": 41,
   "metadata": {},
   "outputs": [],
   "source": []
  },
  {
   "cell_type": "code",
   "execution_count": null,
   "metadata": {},
   "outputs": [],
   "source": []
  },
  {
   "cell_type": "code",
   "execution_count": null,
   "metadata": {
    "collapsed": true
   },
   "outputs": [],
   "source": []
  }
 ],
 "metadata": {
  "kernelspec": {
   "display_name": "Python 3",
   "language": "python",
   "name": "python3"
  },
  "language_info": {
   "codemirror_mode": {
    "name": "ipython",
    "version": 3
   },
   "file_extension": ".py",
   "mimetype": "text/x-python",
   "name": "python",
   "nbconvert_exporter": "python",
   "pygments_lexer": "ipython3",
   "version": "3.6.2"
  }
 },
 "nbformat": 4,
 "nbformat_minor": 2
}
