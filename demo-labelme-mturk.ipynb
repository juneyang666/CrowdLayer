{
 "cells": [
  {
   "cell_type": "markdown",
   "metadata": {},
   "source": [
    "# Import required libraries"
   ]
  },
  {
   "cell_type": "code",
   "execution_count": 1,
   "metadata": {},
   "outputs": [
    {
     "name": "stderr",
     "output_type": "stream",
     "text": [
      "Using TensorFlow backend.\n"
     ]
    }
   ],
   "source": [
    "import numpy as np\n",
    "import tensorflow as tf\n",
    "import matplotlib.cm as cm\n",
    "from matplotlib import pyplot as plt \n",
    "from keras.models import Sequential\n",
    "from keras.layers import Activation, Dropout, Flatten, Dense\n",
    "\n",
    "# packages for learning from crowds\n",
    "from crowd_layer.crowd_layers import CrowdsClassification, MaskedMultiCrossEntropy\n",
    "from crowd_layer.crowd_aggregators import CrowdsCategoricalAggregator\n",
    "\n",
    "# prevent tensorflow from allocating the entire GPU memory at once\n",
    "config = tf.ConfigProto()\n",
    "config.gpu_options.allow_growth=True\n",
    "sess = tf.Session(config=config)"
   ]
  },
  {
   "cell_type": "markdown",
   "metadata": {},
   "source": [
    "# Configuration parameters"
   ]
  },
  {
   "cell_type": "code",
   "execution_count": 2,
   "metadata": {
    "collapsed": true
   },
   "outputs": [],
   "source": [
    "NUM_RUNS = 30\n",
    "DATA_PATH = \"/Users/yangyajing/Documents/noisy_dataset/LabelMe/prepared/\"\n",
    "N_CLASSES = 8\n",
    "BATCH_SIZE = 64\n",
    "N_EPOCHS = 50"
   ]
  },
  {
   "cell_type": "markdown",
   "metadata": {},
   "source": [
    "# Load data"
   ]
  },
  {
   "cell_type": "code",
   "execution_count": 3,
   "metadata": {
    "collapsed": true
   },
   "outputs": [],
   "source": [
    "def load_data(filename):\n",
    "    f = open(filename, 'rb')\n",
    "    data = np.load(f)\n",
    "    f.close()\n",
    "    return data"
   ]
  },
  {
   "cell_type": "code",
   "execution_count": 4,
   "metadata": {},
   "outputs": [
    {
     "name": "stdout",
     "output_type": "stream",
     "text": [
      "\n",
      "Loading train data...\n",
      "(10000, 4, 4, 512)\n",
      "(10000,)\n",
      "(10000,)\n",
      "(10000,)\n",
      "\n",
      "Loading AMT data...\n",
      "(10000, 59)\n",
      "\n",
      "N_CLASSES: 8\n",
      "N_ANNOT: 59\n",
      "\n",
      "Loading test data...\n",
      "(1188, 4, 4, 512)\n",
      "(1188,)\n"
     ]
    }
   ],
   "source": [
    "print(\"\\nLoading train data...\")\n",
    "\n",
    "# images processed by VGG16\n",
    "data_train_vgg16 = load_data(DATA_PATH+\"data_train_vgg16.npy\")\n",
    "print(data_train_vgg16.shape)\n",
    "\n",
    "# ground truth labels\n",
    "labels_train = load_data(DATA_PATH+\"labels_train.npy\")\n",
    "print(labels_train.shape)\n",
    "\n",
    "# labels obtained from majority voting\n",
    "labels_train_mv = load_data(DATA_PATH+\"labels_train_mv.npy\")\n",
    "print(labels_train_mv.shape)\n",
    "\n",
    "# labels obtained by using the approach by Dawid and Skene\n",
    "labels_train_ds = load_data(DATA_PATH+\"labels_train_DS.npy\")\n",
    "print(labels_train_ds.shape)\n",
    "\n",
    "# data from Amazon Mechanical Turk\n",
    "print(\"\\nLoading AMT data...\")\n",
    "answers = load_data(DATA_PATH+\"answers.npy\")\n",
    "print(answers.shape)\n",
    "N_ANNOT = answers.shape[1]\n",
    "print(\"\\nN_CLASSES:\", N_CLASSES)\n",
    "print(\"N_ANNOT:\", N_ANNOT)\n",
    "\n",
    "# load test data\n",
    "print(\"\\nLoading test data...\")\n",
    "\n",
    "# images processed by VGG16\n",
    "data_test_vgg16 = load_data(DATA_PATH+\"data_test_vgg16.npy\")\n",
    "print(data_test_vgg16.shape)\n",
    "\n",
    "# test labels\n",
    "labels_test = load_data(DATA_PATH+\"labels_test.npy\")\n",
    "print(labels_test.shape)"
   ]
  },
  {
   "cell_type": "code",
   "execution_count": null,
   "metadata": {},
   "outputs": [],
   "source": []
  },
  {
   "cell_type": "markdown",
   "metadata": {},
   "source": [
    "# Convert data to one-hot encoding"
   ]
  },
  {
   "cell_type": "code",
   "execution_count": 5,
   "metadata": {
    "collapsed": true
   },
   "outputs": [],
   "source": [
    "def one_hot(target, n_classes):\n",
    "    targets = np.array([target]).reshape(-1)\n",
    "    one_hot_targets = np.eye(n_classes)[targets]\n",
    "    return one_hot_targets"
   ]
  },
  {
   "cell_type": "code",
   "execution_count": 6,
   "metadata": {},
   "outputs": [
    {
     "name": "stdout",
     "output_type": "stream",
     "text": [
      "\n",
      "Converting to one-hot encoding...\n",
      "(10000, 8)\n",
      "(10000, 8)\n",
      "(10000, 8)\n",
      "(1188, 8)\n"
     ]
    },
    {
     "data": {
      "text/plain": [
       "(10000, 8, 59)"
      ]
     },
     "execution_count": 6,
     "metadata": {},
     "output_type": "execute_result"
    }
   ],
   "source": [
    "print(\"\\nConverting to one-hot encoding...\")\n",
    "labels_train_bin = one_hot(labels_train, N_CLASSES)\n",
    "print(labels_train_bin.shape)\n",
    "labels_train_mv_bin = one_hot(labels_train_mv, N_CLASSES)\n",
    "print(labels_train_mv_bin.shape)\n",
    "labels_train_ds_bin = one_hot(labels_train_ds, N_CLASSES)\n",
    "print(labels_train_ds_bin.shape)\n",
    "labels_test_bin = one_hot(labels_test, N_CLASSES)\n",
    "print(labels_test_bin.shape)\n",
    "\n",
    "answers_bin_missings = []\n",
    "for i in range(len(answers)):\n",
    "    row = []\n",
    "    for r in range(N_ANNOT):\n",
    "        if answers[i,r] == -1:\n",
    "            row.append(-1 * np.ones(N_CLASSES))\n",
    "        else:\n",
    "            row.append(one_hot(answers[i,r], N_CLASSES)[0,:])\n",
    "    answers_bin_missings.append(row)\n",
    "answers_bin_missings = np.array(answers_bin_missings).swapaxes(1,2)\n",
    "answers_bin_missings.shape"
   ]
  },
  {
   "cell_type": "markdown",
   "metadata": {},
   "source": [
    "# Define the base deep learning model\n",
    "\n",
    "Here we shall use features representation produced by the VGG16 network as the input. Our base model is then simply composed by one densely-connected layer with 128 hidden units and an output dense layer. We use 50% dropout between the two dense layers."
   ]
  },
  {
   "cell_type": "code",
   "execution_count": 7,
   "metadata": {
    "collapsed": true
   },
   "outputs": [],
   "source": [
    "def build_base_model():\n",
    "    base_model = Sequential()\n",
    "    base_model.add(Flatten(input_shape=data_train_vgg16.shape[1:]))\n",
    "    base_model.add(Dense(128, activation='relu'))\n",
    "    base_model.add(Dropout(0.5))\n",
    "    base_model.add(Dense(N_CLASSES))\n",
    "    base_model.add(Activation(\"softmax\"))\n",
    "    base_model.compile(optimizer='adam', loss='categorical_crossentropy')\n",
    "\n",
    "    return base_model"
   ]
  },
  {
   "cell_type": "markdown",
   "metadata": {},
   "source": [
    "# Auxiliary function for evaluating the models"
   ]
  },
  {
   "cell_type": "code",
   "execution_count": 8,
   "metadata": {
    "collapsed": true
   },
   "outputs": [],
   "source": [
    "def eval_model(model, test_data, test_labels):\n",
    "    # testset accuracy\n",
    "    preds_test = model.predict(test_data)\n",
    "    preds_test_num = np.argmax(preds_test, axis=1)\n",
    "    accuracy_test = 1.0*np.sum(preds_test_num == test_labels) / len(test_labels)\n",
    "\n",
    "    return accuracy_test"
   ]
  },
  {
   "cell_type": "markdown",
   "metadata": {},
   "source": [
    "# Train the model on the true labels (ground truth) and evaluate on testset"
   ]
  },
  {
   "cell_type": "code",
   "execution_count": 16,
   "metadata": {
    "scrolled": true
   },
   "outputs": [
    {
     "name": "stdout",
     "output_type": "stream",
     "text": [
      "WARNING:tensorflow:From /Users/yangyajing/anaconda/lib/python3.6/site-packages/keras/backend/tensorflow_backend.py:1205: calling reduce_prod (from tensorflow.python.ops.math_ops) with keep_dims is deprecated and will be removed in a future version.\n",
      "Instructions for updating:\n",
      "keep_dims is deprecated, use keepdims instead\n",
      "WARNING:tensorflow:From /Users/yangyajing/anaconda/lib/python3.6/site-packages/keras/backend/tensorflow_backend.py:2755: calling reduce_sum (from tensorflow.python.ops.math_ops) with keep_dims is deprecated and will be removed in a future version.\n",
      "Instructions for updating:\n",
      "keep_dims is deprecated, use keepdims instead\n",
      "WARNING:tensorflow:From /Users/yangyajing/anaconda/lib/python3.6/site-packages/keras/backend/tensorflow_backend.py:1290: calling reduce_mean (from tensorflow.python.ops.math_ops) with keep_dims is deprecated and will be removed in a future version.\n",
      "Instructions for updating:\n",
      "keep_dims is deprecated, use keepdims instead\n",
      "Epoch 1/50\n",
      "2s - loss: 0.5457\n",
      "Epoch 2/50\n",
      "1s - loss: 0.2074\n",
      "Epoch 3/50\n",
      "1s - loss: 0.1446\n",
      "Epoch 4/50\n",
      "1s - loss: 0.0994\n",
      "Epoch 5/50\n",
      "2s - loss: 0.0707\n",
      "Epoch 6/50\n",
      "2s - loss: 0.0543\n",
      "Epoch 7/50\n",
      "1s - loss: 0.0446\n",
      "Epoch 8/50\n",
      "2s - loss: 0.0434\n",
      "Epoch 9/50\n",
      "3s - loss: 0.0382\n",
      "Epoch 10/50\n",
      "2s - loss: 0.0383\n",
      "Epoch 11/50\n",
      "2s - loss: 0.0321\n",
      "Epoch 12/50\n",
      "2s - loss: 0.0348\n",
      "Epoch 13/50\n",
      "2s - loss: 0.0539\n",
      "Epoch 14/50\n",
      "2s - loss: 0.0381\n",
      "Epoch 15/50\n",
      "1s - loss: 0.0301\n",
      "Epoch 16/50\n",
      "1s - loss: 0.0303\n",
      "Epoch 17/50\n",
      "1s - loss: 0.0272\n",
      "Epoch 18/50\n",
      "1s - loss: 0.0321\n",
      "Epoch 19/50\n",
      "1s - loss: 0.0316\n",
      "Epoch 20/50\n",
      "1s - loss: 0.0300\n",
      "Epoch 21/50\n",
      "1s - loss: 0.0275\n",
      "Epoch 22/50\n",
      "1s - loss: 0.0193\n",
      "Epoch 23/50\n",
      "1s - loss: 0.0296\n",
      "Epoch 24/50\n",
      "1s - loss: 0.0321\n",
      "Epoch 25/50\n",
      "1s - loss: 0.0324\n",
      "Epoch 26/50\n",
      "1s - loss: 0.0245\n",
      "Epoch 27/50\n",
      "1s - loss: 0.0315\n",
      "Epoch 28/50\n",
      "1s - loss: 0.0271\n",
      "Epoch 29/50\n",
      "1s - loss: 0.0316\n",
      "Epoch 30/50\n",
      "1s - loss: 0.0231\n",
      "Epoch 31/50\n",
      "1s - loss: 0.0162\n",
      "Epoch 32/50\n",
      "1s - loss: 0.0254\n",
      "Epoch 33/50\n",
      "1s - loss: 0.0180\n",
      "Epoch 34/50\n",
      "1s - loss: 0.0233\n",
      "Epoch 35/50\n",
      "1s - loss: 0.0192\n",
      "Epoch 36/50\n",
      "1s - loss: 0.0261\n",
      "Epoch 37/50\n",
      "1s - loss: 0.0251\n",
      "Epoch 38/50\n",
      "1s - loss: 0.0214\n",
      "Epoch 39/50\n",
      "1s - loss: 0.0216\n",
      "Epoch 40/50\n",
      "1s - loss: 0.0265\n",
      "Epoch 41/50\n",
      "2s - loss: 0.0231\n",
      "Epoch 42/50\n",
      "1s - loss: 0.0246\n",
      "Epoch 43/50\n",
      "1s - loss: 0.0219\n",
      "Epoch 44/50\n",
      "1s - loss: 0.0203\n",
      "Epoch 45/50\n",
      "1s - loss: 0.0252\n",
      "Epoch 46/50\n",
      "1s - loss: 0.0263\n",
      "Epoch 47/50\n",
      "1s - loss: 0.0230\n",
      "Epoch 48/50\n",
      "1s - loss: 0.0164\n",
      "Epoch 49/50\n",
      "1s - loss: 0.0155\n",
      "Epoch 50/50\n",
      "1s - loss: 0.0164\n"
     ]
    },
    {
     "data": {
      "text/plain": [
       "<keras.callbacks.History at 0x120f5f4a8>"
      ]
     },
     "execution_count": 16,
     "metadata": {},
     "output_type": "execute_result"
    }
   ],
   "source": [
    "model = build_base_model()\n",
    "model.fit(data_train_vgg16, labels_train_bin, epochs=N_EPOCHS, shuffle=True, batch_size=BATCH_SIZE, verbose=2)"
   ]
  },
  {
   "cell_type": "code",
   "execution_count": 10,
   "metadata": {},
   "outputs": [
    {
     "name": "stdout",
     "output_type": "stream",
     "text": [
      "Accuracy: Test: 0.912\n"
     ]
    }
   ],
   "source": [
    "accuracy_test = eval_model(model, data_test_vgg16, labels_test)\n",
    "print \"Accuracy: Test: %.3f\" % (accuracy_test,) "
   ]
  },
  {
   "cell_type": "markdown",
   "metadata": {},
   "source": [
    "# Train the model on the output of majority voting and evaluate on testset"
   ]
  },
  {
   "cell_type": "code",
   "execution_count": 17,
   "metadata": {
    "collapsed": true
   },
   "outputs": [
    {
     "name": "stdout",
     "output_type": "stream",
     "text": [
      "Epoch 1/50\n",
      "2s - loss: 0.9171\n",
      "Epoch 2/50\n",
      "2s - loss: 0.5398\n",
      "Epoch 3/50\n",
      "2s - loss: 0.3974\n",
      "Epoch 4/50\n",
      "2s - loss: 0.3053\n",
      "Epoch 5/50\n",
      "2s - loss: 0.2459\n",
      "Epoch 6/50\n",
      "2s - loss: 0.1892\n",
      "Epoch 7/50\n",
      "2s - loss: 0.1580\n",
      "Epoch 8/50\n",
      "2s - loss: 0.1421\n",
      "Epoch 9/50\n",
      "2s - loss: 0.1291\n",
      "Epoch 10/50\n",
      "2s - loss: 0.1125\n",
      "Epoch 11/50\n",
      "2s - loss: 0.1062\n",
      "Epoch 12/50\n",
      "2s - loss: 0.0980\n",
      "Epoch 13/50\n",
      "1s - loss: 0.0879\n",
      "Epoch 14/50\n",
      "1s - loss: 0.0839\n",
      "Epoch 15/50\n",
      "1s - loss: 0.0748\n",
      "Epoch 16/50\n",
      "1s - loss: 0.0900\n",
      "Epoch 17/50\n",
      "1s - loss: 0.0791\n",
      "Epoch 18/50\n",
      "1s - loss: 0.0760\n",
      "Epoch 19/50\n",
      "1s - loss: 0.0677\n",
      "Epoch 20/50\n",
      "1s - loss: 0.0665\n",
      "Epoch 21/50\n",
      "2s - loss: 0.0638\n",
      "Epoch 22/50\n",
      "2s - loss: 0.0615\n",
      "Epoch 23/50\n",
      "2s - loss: 0.0833\n",
      "Epoch 24/50\n",
      "2s - loss: 0.0940\n",
      "Epoch 25/50\n",
      "1s - loss: 0.0862\n",
      "Epoch 26/50\n",
      "1s - loss: 0.0705\n",
      "Epoch 27/50\n",
      "1s - loss: 0.0700\n",
      "Epoch 28/50\n",
      "2s - loss: 0.0968\n",
      "Epoch 29/50\n",
      "2s - loss: 0.0768\n",
      "Epoch 30/50\n",
      "2s - loss: 0.0679\n",
      "Epoch 31/50\n",
      "2s - loss: 0.0699\n",
      "Epoch 32/50\n",
      "2s - loss: 0.0669\n",
      "Epoch 33/50\n",
      "2s - loss: 0.0742\n",
      "Epoch 34/50\n",
      "2s - loss: 0.0697\n",
      "Epoch 35/50\n",
      "2s - loss: 0.0623\n",
      "Epoch 36/50\n",
      "2s - loss: 0.0526\n",
      "Epoch 37/50\n",
      "2s - loss: 0.0529\n",
      "Epoch 38/50\n",
      "2s - loss: 0.0528\n",
      "Epoch 39/50\n",
      "2s - loss: 0.0579\n",
      "Epoch 40/50\n",
      "2s - loss: 0.0629\n",
      "Epoch 41/50\n",
      "2s - loss: 0.0587\n",
      "Epoch 42/50\n",
      "2s - loss: 0.0576\n",
      "Epoch 43/50\n",
      "2s - loss: 0.0458\n",
      "Epoch 44/50\n",
      "2s - loss: 0.0496\n",
      "Epoch 45/50\n",
      "2s - loss: 0.0596\n",
      "Epoch 46/50\n",
      "2s - loss: 0.0509\n",
      "Epoch 47/50\n",
      "1s - loss: 0.0475\n",
      "Epoch 48/50\n",
      "2s - loss: 0.0399\n",
      "Epoch 49/50\n",
      "2s - loss: 0.0512\n",
      "Epoch 50/50\n",
      "1s - loss: 0.0375\n"
     ]
    },
    {
     "data": {
      "text/plain": [
       "<keras.callbacks.History at 0x13797d438>"
      ]
     },
     "execution_count": 17,
     "metadata": {},
     "output_type": "execute_result"
    }
   ],
   "source": [
    "model = build_base_model()\n",
    "model.fit(data_train_vgg16, labels_train_mv_bin, epochs=N_EPOCHS, shuffle=True, batch_size=BATCH_SIZE, verbose=2)"
   ]
  },
  {
   "cell_type": "code",
   "execution_count": 19,
   "metadata": {},
   "outputs": [
    {
     "name": "stdout",
     "output_type": "stream",
     "text": [
      "Accuracy: Test: 0.785\n"
     ]
    }
   ],
   "source": [
    "accuracy_test = eval_model(model, data_test_vgg16, labels_test)\n",
    "print(\"Accuracy: Test: %.3f\" % (accuracy_test,)) "
   ]
  },
  {
   "cell_type": "markdown",
   "metadata": {},
   "source": [
    "# Train the model on the output of Dawid & Skene [1] and evaluate on testset\n",
    "\n",
    "[1] Dawid, A.P. and Skene, A.M., 1979. Maximum likelihood estimation of observer error-rates using the EM algorithm. Applied statistics, pp.20-28."
   ]
  },
  {
   "cell_type": "code",
   "execution_count": 20,
   "metadata": {
    "scrolled": true
   },
   "outputs": [
    {
     "name": "stdout",
     "output_type": "stream",
     "text": [
      "Epoch 1/50\n",
      "2s - loss: 0.8759\n",
      "Epoch 2/50\n",
      "1s - loss: 0.5004\n",
      "Epoch 3/50\n",
      "1s - loss: 0.3460\n",
      "Epoch 4/50\n",
      "1s - loss: 0.2597\n",
      "Epoch 5/50\n",
      "1s - loss: 0.2071\n",
      "Epoch 6/50\n",
      "1s - loss: 0.1654\n",
      "Epoch 7/50\n",
      "1s - loss: 0.1487\n",
      "Epoch 8/50\n",
      "1s - loss: 0.1245\n",
      "Epoch 9/50\n",
      "1s - loss: 0.1215\n",
      "Epoch 10/50\n",
      "1s - loss: 0.1050\n",
      "Epoch 11/50\n",
      "1s - loss: 0.0912\n",
      "Epoch 12/50\n",
      "2s - loss: 0.0870\n",
      "Epoch 13/50\n",
      "2s - loss: 0.0780\n",
      "Epoch 14/50\n",
      "2s - loss: 0.0760\n",
      "Epoch 15/50\n",
      "1s - loss: 0.0814\n",
      "Epoch 16/50\n",
      "1s - loss: 0.0671\n",
      "Epoch 17/50\n",
      "1s - loss: 0.0709\n",
      "Epoch 18/50\n",
      "1s - loss: 0.0806\n",
      "Epoch 19/50\n",
      "1s - loss: 0.0660\n",
      "Epoch 20/50\n",
      "1s - loss: 0.0583\n",
      "Epoch 21/50\n",
      "1s - loss: 0.0532\n",
      "Epoch 22/50\n",
      "1s - loss: 0.0532\n",
      "Epoch 23/50\n",
      "1s - loss: 0.0666\n",
      "Epoch 24/50\n",
      "2s - loss: 0.0595\n",
      "Epoch 25/50\n",
      "2s - loss: 0.0631\n",
      "Epoch 26/50\n",
      "1s - loss: 0.0480\n",
      "Epoch 27/50\n",
      "1s - loss: 0.0588\n",
      "Epoch 28/50\n",
      "1s - loss: 0.0703\n",
      "Epoch 29/50\n",
      "1s - loss: 0.0613\n",
      "Epoch 30/50\n",
      "1s - loss: 0.0577\n",
      "Epoch 31/50\n",
      "1s - loss: 0.0606\n",
      "Epoch 32/50\n",
      "1s - loss: 0.0523\n",
      "Epoch 33/50\n",
      "1s - loss: 0.0389\n",
      "Epoch 34/50\n",
      "1s - loss: 0.0399\n",
      "Epoch 35/50\n",
      "1s - loss: 0.0356\n",
      "Epoch 36/50\n",
      "1s - loss: 0.0528\n",
      "Epoch 37/50\n",
      "1s - loss: 0.0416\n",
      "Epoch 38/50\n",
      "1s - loss: 0.0488\n",
      "Epoch 39/50\n",
      "1s - loss: 0.0437\n",
      "Epoch 40/50\n",
      "2s - loss: 0.0464\n",
      "Epoch 41/50\n",
      "2s - loss: 0.0443\n",
      "Epoch 42/50\n",
      "1s - loss: 0.0491\n",
      "Epoch 43/50\n",
      "1s - loss: 0.0589\n",
      "Epoch 44/50\n",
      "1s - loss: 0.0444\n",
      "Epoch 45/50\n",
      "1s - loss: 0.0574\n",
      "Epoch 46/50\n",
      "1s - loss: 0.0631\n",
      "Epoch 47/50\n",
      "1s - loss: 0.0529\n",
      "Epoch 48/50\n",
      "1s - loss: 0.0575\n",
      "Epoch 49/50\n",
      "1s - loss: 0.0510\n",
      "Epoch 50/50\n",
      "2s - loss: 0.0490\n"
     ]
    },
    {
     "data": {
      "text/plain": [
       "<keras.callbacks.History at 0x139defcc0>"
      ]
     },
     "execution_count": 20,
     "metadata": {},
     "output_type": "execute_result"
    }
   ],
   "source": [
    "model = build_base_model()\n",
    "model.fit(data_train_vgg16, labels_train_ds_bin, epochs=N_EPOCHS, shuffle=True, batch_size=BATCH_SIZE, verbose=2)"
   ]
  },
  {
   "cell_type": "code",
   "execution_count": 21,
   "metadata": {},
   "outputs": [
    {
     "name": "stdout",
     "output_type": "stream",
     "text": [
      "Accuracy: Test: 0.813\n"
     ]
    }
   ],
   "source": [
    "accuracy_test = eval_model(model, data_test_vgg16, labels_test)\n",
    "print(\"Accuracy: Test: %.3f\" % (accuracy_test,)) "
   ]
  },
  {
   "cell_type": "markdown",
   "metadata": {},
   "source": [
    "# Train the model using EM approach and evaluate on testset\n",
    "\n",
    "The CrowdsCategoricalAggregator class acts as a wrapper for the base model that computed the EM steps."
   ]
  },
  {
   "cell_type": "code",
   "execution_count": 24,
   "metadata": {},
   "outputs": [
    {
     "name": "stdout",
     "output_type": "stream",
     "text": [
      "Epoch: 1\n",
      "E-step\n",
      "Adjusted ground truth accuracy: 0.769\n",
      "M-step\n",
      "loss: 0.908360270690918\n",
      "Epoch: 2\n",
      "E-step\n",
      "Adjusted ground truth accuracy: 0.8223\n",
      "M-step\n",
      "loss: 0.09061147568225861\n",
      "Epoch: 3\n",
      "E-step\n",
      "Adjusted ground truth accuracy: 0.8335\n",
      "M-step\n",
      "loss: 0.08477370660305023\n",
      "Epoch: 4\n",
      "E-step\n",
      "Adjusted ground truth accuracy: 0.8456\n",
      "M-step\n",
      "loss: 0.07502520937919617\n",
      "Epoch: 5\n",
      "E-step\n",
      "Adjusted ground truth accuracy: 0.8512\n",
      "M-step\n",
      "loss: 0.06299123305082321\n",
      "Epoch: 6\n",
      "E-step\n",
      "Adjusted ground truth accuracy: 0.8568\n",
      "M-step\n",
      "loss: 0.0570142375767231\n",
      "Epoch: 7\n",
      "E-step\n",
      "Adjusted ground truth accuracy: 0.8595\n",
      "M-step\n",
      "loss: 0.05246899654865265\n",
      "Epoch: 8\n",
      "E-step\n",
      "Adjusted ground truth accuracy: 0.8554\n",
      "M-step\n",
      "loss: 0.05003881833553314\n",
      "Epoch: 9\n",
      "E-step\n",
      "Adjusted ground truth accuracy: 0.863\n",
      "M-step\n",
      "loss: 0.04662610713839531\n",
      "Epoch: 10\n",
      "E-step\n",
      "Adjusted ground truth accuracy: 0.8667\n",
      "M-step\n",
      "loss: 0.03936486002206802\n",
      "Epoch: 11\n",
      "E-step\n",
      "Adjusted ground truth accuracy: 0.8612\n",
      "M-step\n",
      "loss: 0.04093037679195404\n",
      "Epoch: 12\n",
      "E-step\n",
      "Adjusted ground truth accuracy: 0.8555\n",
      "M-step\n",
      "loss: 0.04317114043459296\n",
      "Epoch: 13\n",
      "E-step\n",
      "Adjusted ground truth accuracy: 0.8595\n",
      "M-step\n",
      "loss: 0.03836240803822875\n",
      "Epoch: 14\n",
      "E-step\n",
      "Adjusted ground truth accuracy: 0.8599\n",
      "M-step\n",
      "loss: 0.03218354996740818\n",
      "Epoch: 15\n",
      "E-step\n",
      "Adjusted ground truth accuracy: 0.8621\n",
      "M-step\n",
      "loss: 0.03369150398373604\n",
      "Epoch: 16\n",
      "E-step\n",
      "Adjusted ground truth accuracy: 0.8639\n",
      "M-step\n",
      "loss: 0.03271470321565866\n",
      "Epoch: 17\n",
      "E-step\n",
      "Adjusted ground truth accuracy: 0.8625\n",
      "M-step\n",
      "loss: 0.03461288684606552\n",
      "Epoch: 18\n",
      "E-step\n",
      "Adjusted ground truth accuracy: 0.8624\n",
      "M-step\n",
      "loss: 0.03888297407925129\n",
      "Epoch: 19\n",
      "E-step\n",
      "Adjusted ground truth accuracy: 0.8566\n",
      "M-step\n",
      "loss: 0.035376147957146165\n",
      "Epoch: 20\n",
      "E-step\n",
      "Adjusted ground truth accuracy: 0.8604\n",
      "M-step\n",
      "loss: 0.031848373115062716\n",
      "Epoch: 21\n",
      "E-step\n",
      "Adjusted ground truth accuracy: 0.8621\n",
      "M-step\n",
      "loss: 0.029093792095780373\n",
      "Epoch: 22\n",
      "E-step\n",
      "Adjusted ground truth accuracy: 0.8597\n",
      "M-step\n",
      "loss: 0.033058907493948936\n",
      "Epoch: 23\n",
      "E-step\n",
      "Adjusted ground truth accuracy: 0.8613\n",
      "M-step\n",
      "loss: 0.0546704165160656\n",
      "Epoch: 24\n",
      "E-step\n",
      "Adjusted ground truth accuracy: 0.8626\n",
      "M-step\n",
      "loss: 0.046963941963389516\n",
      "Epoch: 25\n",
      "E-step\n",
      "Adjusted ground truth accuracy: 0.8615\n",
      "M-step\n",
      "loss: 0.031907305802870545\n",
      "Epoch: 26\n",
      "E-step\n",
      "Adjusted ground truth accuracy: 0.8591\n",
      "M-step\n",
      "loss: 0.028092463923990726\n",
      "Epoch: 27\n",
      "E-step\n",
      "Adjusted ground truth accuracy: 0.8621\n",
      "M-step\n",
      "loss: 0.029200277806818484\n",
      "Epoch: 28\n",
      "E-step\n",
      "Adjusted ground truth accuracy: 0.8628\n",
      "M-step\n",
      "loss: 0.02933555623590946\n",
      "Epoch: 29\n",
      "E-step\n",
      "Adjusted ground truth accuracy: 0.8627\n",
      "M-step\n",
      "loss: 0.03319451317489147\n",
      "Epoch: 30\n",
      "E-step\n",
      "Adjusted ground truth accuracy: 0.8655\n",
      "M-step\n",
      "loss: 0.02863195124566555\n",
      "Epoch: 31\n",
      "E-step\n",
      "Adjusted ground truth accuracy: 0.8663\n",
      "M-step\n",
      "loss: 0.03612029504925013\n",
      "Epoch: 32\n",
      "E-step\n",
      "Adjusted ground truth accuracy: 0.8584\n",
      "M-step\n",
      "loss: 0.026919672457128764\n",
      "Epoch: 33\n",
      "E-step\n",
      "Adjusted ground truth accuracy: 0.8643\n",
      "M-step\n",
      "loss: 0.031201953262090684\n",
      "Epoch: 34\n",
      "E-step\n",
      "Adjusted ground truth accuracy: 0.8633\n",
      "M-step\n",
      "loss: 0.03537533142194152\n",
      "Epoch: 35\n",
      "E-step\n",
      "Adjusted ground truth accuracy: 0.8648\n",
      "M-step\n",
      "loss: 0.023196144688129423\n",
      "Epoch: 36\n",
      "E-step\n",
      "Adjusted ground truth accuracy: 0.8625\n",
      "M-step\n",
      "loss: 0.023446639330126345\n",
      "Epoch: 37\n",
      "E-step\n",
      "Adjusted ground truth accuracy: 0.8612\n",
      "M-step\n",
      "loss: 0.0260265152618289\n",
      "Epoch: 38\n",
      "E-step\n",
      "Adjusted ground truth accuracy: 0.8629\n",
      "M-step\n",
      "loss: 0.023477948757261037\n",
      "Epoch: 39\n",
      "E-step\n",
      "Adjusted ground truth accuracy: 0.8632\n",
      "M-step\n",
      "loss: 0.025487475843261928\n",
      "Epoch: 40\n",
      "E-step\n",
      "Adjusted ground truth accuracy: 0.8631\n",
      "M-step\n",
      "loss: 0.03064219309836626\n",
      "Epoch: 41\n",
      "E-step\n",
      "Adjusted ground truth accuracy: 0.8634\n",
      "M-step\n",
      "loss: 0.01904688823968172\n",
      "Epoch: 42\n",
      "E-step\n",
      "Adjusted ground truth accuracy: 0.863\n",
      "M-step\n",
      "loss: 0.028470038873702287\n",
      "Epoch: 43\n",
      "E-step\n",
      "Adjusted ground truth accuracy: 0.8632\n",
      "M-step\n",
      "loss: 0.01971976586841047\n",
      "Epoch: 44\n",
      "E-step\n",
      "Adjusted ground truth accuracy: 0.8652\n",
      "M-step\n",
      "loss: 0.02604143834337592\n",
      "Epoch: 45\n",
      "E-step\n",
      "Adjusted ground truth accuracy: 0.8644\n",
      "M-step\n",
      "loss: 0.02776998918503523\n",
      "Epoch: 46\n",
      "E-step\n",
      "Adjusted ground truth accuracy: 0.8635\n",
      "M-step\n",
      "loss: 0.028528327019512655\n",
      "Epoch: 47\n",
      "E-step\n",
      "Adjusted ground truth accuracy: 0.8627\n",
      "M-step\n",
      "loss: 0.024002485171705484\n",
      "Epoch: 48\n",
      "E-step\n",
      "Adjusted ground truth accuracy: 0.8638\n",
      "M-step\n",
      "loss: 0.022393567860871554\n",
      "Epoch: 49\n",
      "E-step\n",
      "Adjusted ground truth accuracy: 0.8642\n",
      "M-step\n",
      "loss: 0.021846921788901092\n",
      "Epoch: 50\n",
      "E-step\n",
      "Adjusted ground truth accuracy: 0.8635\n",
      "M-step\n",
      "loss: 0.01845197768062353\n"
     ]
    }
   ],
   "source": [
    "model = build_base_model()\n",
    "crowds_agg = CrowdsCategoricalAggregator(model, data_train_vgg16, answers, batch_size=BATCH_SIZE)\n",
    "for epoch in range(N_EPOCHS):\n",
    "    print(\"Epoch:\", epoch+1)\n",
    "    \n",
    "    # E-step\n",
    "    ground_truth_est = crowds_agg.e_step()\n",
    "    print(\"Adjusted ground truth accuracy:\", 1.0*np.sum(np.argmax(ground_truth_est, axis=1) == labels_train) / len(labels_train))\n",
    "    \n",
    "    # M-step\n",
    "    model, pi = crowds_agg.m_step()"
   ]
  },
  {
   "cell_type": "code",
   "execution_count": 25,
   "metadata": {},
   "outputs": [
    {
     "name": "stdout",
     "output_type": "stream",
     "text": [
      "Accuracy: Test: 0.816\n"
     ]
    }
   ],
   "source": [
    "accuracy_test = eval_model(model, data_test_vgg16, labels_test)\n",
    "print(\"Accuracy: Test: %.3f\" % (accuracy_test,)) "
   ]
  },
  {
   "cell_type": "markdown",
   "metadata": {},
   "source": [
    "# Train the model using proposed DL-MW approach and evaluate on testset\n",
    "\n",
    "We start by adding a new layer (CrowdsClassification) on top of our neural network. We then require a special loss (MaskedMultiCrossEntropy) to handle the missing labels from some of the annotators (encoded as \"-1\").\n",
    "\n",
    "Notice how the training is faster then the EM approach."
   ]
  },
  {
   "cell_type": "code",
   "execution_count": 9,
   "metadata": {
    "scrolled": false
   },
   "outputs": [
    {
     "name": "stdout",
     "output_type": "stream",
     "text": [
      "WARNING:tensorflow:From /Users/yangyajing/anaconda/lib/python3.6/site-packages/keras/backend/tensorflow_backend.py:1205: calling reduce_prod (from tensorflow.python.ops.math_ops) with keep_dims is deprecated and will be removed in a future version.\n",
      "Instructions for updating:\n",
      "keep_dims is deprecated, use keepdims instead\n",
      "WARNING:tensorflow:From /Users/yangyajing/anaconda/lib/python3.6/site-packages/keras/backend/tensorflow_backend.py:2755: calling reduce_sum (from tensorflow.python.ops.math_ops) with keep_dims is deprecated and will be removed in a future version.\n",
      "Instructions for updating:\n",
      "keep_dims is deprecated, use keepdims instead\n",
      "WARNING:tensorflow:From /Users/yangyajing/anaconda/lib/python3.6/site-packages/keras/backend/tensorflow_backend.py:1290: calling reduce_mean (from tensorflow.python.ops.math_ops) with keep_dims is deprecated and will be removed in a future version.\n",
      "Instructions for updating:\n",
      "keep_dims is deprecated, use keepdims instead\n",
      "WARNING:tensorflow:From /Users/yangyajing/Documents/GitHub/CrowdLayer/crowd_layer/crowd_layers.py:266: softmax_cross_entropy_with_logits (from tensorflow.python.ops.nn_ops) is deprecated and will be removed in a future version.\n",
      "Instructions for updating:\n",
      "\n",
      "Future major versions of TensorFlow will allow gradients to flow\n",
      "into the labels input on backprop by default.\n",
      "\n",
      "See @{tf.nn.softmax_cross_entropy_with_logits_v2}.\n",
      "\n",
      "Epoch 1/50\n",
      "6s - loss: 0.0722\n",
      "Epoch 2/50\n",
      "2s - loss: 0.0647\n",
      "Epoch 3/50\n",
      "2s - loss: 0.0614\n",
      "Epoch 4/50\n",
      "3s - loss: 0.0587\n",
      "Epoch 5/50\n",
      "2s - loss: 0.0564\n",
      "Epoch 6/50\n",
      "3s - loss: 0.0543\n",
      "Epoch 7/50\n",
      "2s - loss: 0.0522\n",
      "Epoch 8/50\n",
      "2s - loss: 0.0505\n",
      "Epoch 9/50\n",
      "2s - loss: 0.0489\n",
      "Epoch 10/50\n",
      "3s - loss: 0.0474\n",
      "Epoch 11/50\n",
      "3s - loss: 0.0458\n",
      "Epoch 12/50\n",
      "2s - loss: 0.0446\n",
      "Epoch 13/50\n",
      "3s - loss: 0.0435\n",
      "Epoch 14/50\n",
      "2s - loss: 0.0425\n",
      "Epoch 15/50\n",
      "3s - loss: 0.0414\n",
      "Epoch 16/50\n",
      "3s - loss: 0.0404\n",
      "Epoch 17/50\n",
      "3s - loss: 0.0394\n",
      "Epoch 18/50\n",
      "2s - loss: 0.0385\n",
      "Epoch 19/50\n",
      "2s - loss: 0.0374\n",
      "Epoch 20/50\n",
      "2s - loss: 0.0365\n",
      "Epoch 21/50\n",
      "2s - loss: 0.0361\n",
      "Epoch 22/50\n",
      "2s - loss: 0.0355\n",
      "Epoch 23/50\n",
      "2s - loss: 0.0349\n",
      "Epoch 24/50\n",
      "3s - loss: 0.0341\n",
      "Epoch 25/50\n",
      "3s - loss: 0.0334\n",
      "Epoch 26/50\n",
      "3s - loss: 0.0329\n",
      "Epoch 27/50\n",
      "3s - loss: 0.0325\n",
      "Epoch 28/50\n",
      "3s - loss: 0.0318\n",
      "Epoch 29/50\n",
      "2s - loss: 0.0313\n",
      "Epoch 30/50\n",
      "3s - loss: 0.0309\n",
      "Epoch 31/50\n",
      "3s - loss: 0.0303\n",
      "Epoch 32/50\n",
      "4s - loss: 0.0299\n",
      "Epoch 33/50\n",
      "3s - loss: 0.0293\n",
      "Epoch 34/50\n",
      "3s - loss: 0.0290\n",
      "Epoch 35/50\n",
      "3s - loss: 0.0290\n",
      "Epoch 36/50\n",
      "3s - loss: 0.0284\n",
      "Epoch 37/50\n",
      "3s - loss: 0.0284\n",
      "Epoch 38/50\n",
      "3s - loss: 0.0276\n",
      "Epoch 39/50\n",
      "3s - loss: 0.0271\n",
      "Epoch 40/50\n",
      "3s - loss: 0.0271\n",
      "Epoch 41/50\n",
      "3s - loss: 0.0268\n",
      "Epoch 42/50\n",
      "2s - loss: 0.0265\n",
      "Epoch 43/50\n",
      "2s - loss: 0.0262\n",
      "Epoch 44/50\n",
      "2s - loss: 0.0259\n",
      "Epoch 45/50\n",
      "2s - loss: 0.0253\n",
      "Epoch 46/50\n",
      "2s - loss: 0.0253\n",
      "Epoch 47/50\n",
      "2s - loss: 0.0249\n",
      "Epoch 48/50\n",
      "2s - loss: 0.0245\n",
      "Epoch 49/50\n",
      "3s - loss: 0.0244\n",
      "Epoch 50/50\n",
      "2s - loss: 0.0240\n"
     ]
    },
    {
     "data": {
      "text/plain": [
       "<keras.callbacks.History at 0x13602dbe0>"
      ]
     },
     "execution_count": 9,
     "metadata": {},
     "output_type": "execute_result"
    }
   ],
   "source": [
    "model = build_base_model()\n",
    "\n",
    "# add crowds layer on top of the base model\n",
    "model.add(CrowdsClassification(N_CLASSES, N_ANNOT, conn_type=\"VW\"))\n",
    "\n",
    "# instantiate specialized masked loss to handle missing answers\n",
    "loss = MaskedMultiCrossEntropy().loss\n",
    "\n",
    "# compile model with masked loss and train\n",
    "model.compile(optimizer='adam', loss=loss)\n",
    "model.fit(data_train_vgg16, answers_bin_missings, epochs=N_EPOCHS, shuffle=True, batch_size=BATCH_SIZE, verbose=2)"
   ]
  },
  {
   "cell_type": "markdown",
   "metadata": {},
   "source": [
    "Before evaluating our model, we need to remove the crowds layer used during training in order to expose the aggregation (bottleneck) layer"
   ]
  },
  {
   "cell_type": "code",
   "execution_count": 49,
   "metadata": {},
   "outputs": [
    {
     "name": "stdout",
     "output_type": "stream",
     "text": [
      "Accuracy: Test: 0.829\n"
     ]
    }
   ],
   "source": [
    "# save weights from crowds layer for later\n",
    "weights = model.layers[5].get_weights()\n",
    "\n",
    "# remove crowds layer before making predictions\n",
    "model.pop() \n",
    "model.compile(optimizer='adam', loss='categorical_crossentropy', metrics=['accuracy'])\n",
    "\n",
    "accuracy_test = eval_model(model, data_test_vgg16, labels_test)\n",
    "print(\"Accuracy: Test: %.3f\" % (accuracy_test,)) "
   ]
  },
  {
   "cell_type": "markdown",
   "metadata": {},
   "source": [
    "# Train the model using MW with softmax noise adaption layer approach and evaluate on testset"
   ]
  },
  {
   "cell_type": "code",
   "execution_count": null,
   "metadata": {
    "collapsed": true
   },
   "outputs": [],
   "source": []
  },
  {
   "cell_type": "code",
   "execution_count": null,
   "metadata": {
    "scrolled": false
   },
   "outputs": [
    {
     "name": "stdout",
     "output_type": "stream",
     "text": [
      "(950, 4, 4, 512)\n",
      "(950, 8)\n",
      "baseline_confusion of annotator 0/59\n",
      "[[  0.   0.   0.   0.   0.   0.   0.   0.]\n",
      " [  0. 146.   0.   0.  18.   7.   0.   0.]\n",
      " [  0.   0.  70.   0.   6.   0.   0.   0.]\n",
      " [  0.   0.   0. 119.   0.   0.   1.   2.]\n",
      " [  0.   0.   0.   0. 219.   0.   0.   0.]\n",
      " [  0.   4.   0.   0.   7.  93.   0.   0.]\n",
      " [  0.   0.   0.  11.   0.   0. 109.   0.]\n",
      " [  0.   0.   0.  40.   0.   0.   0.  98.]]\n",
      "(100, 4, 4, 512)\n",
      "(100, 8)\n",
      "baseline_confusion of annotator 1/59\n",
      "[[ 0.  0.  0.  0.  0.  0.  0.  0.]\n",
      " [ 0. 10.  0.  0.  0. 10.  0.  0.]\n",
      " [ 0.  0. 20.  0.  0.  0.  0.  0.]\n",
      " [ 0.  0.  0.  0.  0.  0. 10.  0.]\n",
      " [ 0.  0.  0.  0. 11. 10.  0.  0.]\n",
      " [ 0.  0.  0.  0.  9.  0.  0.  0.]\n",
      " [ 0.  0.  0.  0.  0.  0. 20.  0.]\n",
      " [ 0.  0.  0.  0.  0.  0.  0.  0.]]\n",
      "(590, 4, 4, 512)\n",
      "(590, 8)\n",
      "baseline_confusion of annotator 2/59\n",
      "[[  0.   0.   0.   0.   0.   0.   0.   0.]\n",
      " [  0.  40.   0.   0.  35.  11.   0.   0.]\n",
      " [  0.   0.  40.   0.   0.   0.  20.   0.]\n",
      " [  0.   0.   0.  68.   0.   0.   0.   7.]\n",
      " [  0.   0.   0.   0. 125.   0.   0.   0.]\n",
      " [  0.   0.   0.  10.   0.  69.   0.   0.]\n",
      " [  0.   0.   0.   3.   0.   0.  60.   0.]\n",
      " [  0.   0.   0.   9.   0.   0.   0.  93.]]\n",
      "(460, 4, 4, 512)\n",
      "(460, 8)\n",
      "baseline_confusion of annotator 3/59\n",
      "[[  0.   0.   0.   0.   0.  10.   0.   0.]\n",
      " [  0.  20.   0.   0.   0.  18.  10.   0.]\n",
      " [  0.   0.  60.   0.   0.   0.   0.   0.]\n",
      " [  0.   0.   0.   0.   0.   0.  25.   7.]\n",
      " [  0.   0.   0.   0. 100.   0.   0.   0.]\n",
      " [  0.  10.   0.   0.  10.  12.   0.   0.]\n",
      " [  0.   0.   0.   0.   0.   0.  75.   0.]\n",
      " [  0.   0.   0.   0.   0.   0.   0. 103.]]\n",
      "(810, 4, 4, 512)\n",
      "(810, 8)\n",
      "baseline_confusion of annotator 4/59\n",
      "[[  0.  10.   0.   0.   0.   0.   0.   0.]\n",
      " [  0. 189.   0.   0.   7.   0.   0.   0.]\n",
      " [  0.   0.  40.   0.   0.   0.  10.   0.]\n",
      " [  0.   0.   0.  72.   0.   0.   0.   5.]\n",
      " [  0.   1.   0.   0. 163.   0.   0.   0.]\n",
      " [  0.   0.   0.   0.   0.  40.   0.   0.]\n",
      " [  0.   0.   0.  38.   0.   0.  90.   0.]\n",
      " [  0.   0.   0.   0.   0.   0.   0. 145.]]\n",
      "(520, 4, 4, 512)\n",
      "(520, 8)\n",
      "baseline_confusion of annotator 5/59\n",
      "[[ 0.  0.  0.  0.  0.  0.  0.  0.]\n",
      " [ 0. 90.  0.  0.  0.  0.  0.  0.]\n",
      " [ 0.  0. 40.  0.  0.  0.  9.  0.]\n",
      " [ 0.  0.  0. 15.  0.  0.  4. 26.]\n",
      " [ 0.  0.  0.  0. 90.  3.  0.  0.]\n",
      " [ 0.  0.  0.  0.  0. 67.  0.  0.]\n",
      " [ 0.  0.  0. 35.  0.  0. 37. 10.]\n",
      " [ 0.  0.  0. 10.  0.  0.  0. 84.]]\n",
      "(750, 4, 4, 512)\n",
      "(750, 8)\n",
      "baseline_confusion of annotator 6/59\n",
      "[[  0.   0.   0.   0.   0.   2.   0.   0.]\n",
      " [  0. 108.   0.   0.   0.  14.   0.   0.]\n",
      " [  0.   0.  90.   0.   0.   0.   0.   0.]\n",
      " [  0.   0.   0. 103.   0.   0.   0.  20.]\n",
      " [  0.   1.   0.   0. 134.   2.   0.   0.]\n",
      " [  0.   1.   0.  10.   6.  92.   0.   0.]\n",
      " [  0.   0.   0.  29.   0.   0.  70.  10.]\n",
      " [  0.   0.   0.   8.   0.   0.   0.  50.]]\n",
      "(250, 4, 4, 512)\n",
      "(250, 8)\n",
      "baseline_confusion of annotator 7/59\n",
      "[[ 0.  0.  0.  0.  0.  0.  0.  0.]\n",
      " [ 0. 13.  0.  0. 10.  0. 10.  0.]\n",
      " [ 0.  0. 10.  0.  0.  0.  0.  0.]\n",
      " [ 0.  0.  0.  0.  0.  0. 10. 25.]\n",
      " [ 0.  0.  0.  0. 40.  0.  0.  0.]\n",
      " [ 0.  7.  0.  0.  0. 20.  0.  0.]\n",
      " [ 0.  0.  0.  0.  0.  0. 30.  0.]\n",
      " [ 0.  0.  0.  0.  0.  0.  0. 75.]]\n",
      "(210, 4, 4, 512)\n",
      "(210, 8)\n",
      "baseline_confusion of annotator 8/59\n",
      "[[ 0.  0.  0.  0.  0.  0.  0.  0.]\n",
      " [ 0. 30.  0.  0.  0.  7.  0.  0.]\n",
      " [ 0.  0. 20.  0.  0.  0.  0.  0.]\n",
      " [ 0.  0.  0. 23.  0.  0.  0.  0.]\n",
      " [ 0.  0.  0.  0. 40.  0.  0.  0.]\n",
      " [ 0.  0.  0.  0.  0. 23.  0.  0.]\n",
      " [ 0.  0.  0.  7.  0.  0. 30.  0.]\n",
      " [ 0.  0.  0. 10.  0.  0.  0. 20.]]\n",
      "(580, 4, 4, 512)\n",
      "(580, 8)\n",
      "baseline_confusion of annotator 9/59\n",
      "[[  0.   0.   0.   0.   0.   0.   0.   0.]\n",
      " [  0. 130.   0.   0.   0.   3.   0.   0.]\n",
      " [  0.   0.  20.   6.   0.   0.   0.   0.]\n",
      " [  0.   0.   0.  81.   0.   0.   0.  20.]\n",
      " [  0.   0.   0.   0. 150.   0.   0.   0.]\n",
      " [  0.   0.   0.   0.   0.  47.  10.   0.]\n",
      " [  0.   0.   0.   4.   0.   0.  30.   0.]\n",
      " [  0.   0.   0.  19.   0.   0.   0.  60.]]\n",
      "(1100, 4, 4, 512)\n",
      "(1100, 8)\n",
      "baseline_confusion of annotator 10/59\n",
      "[[  0.   2.   0.   0.   0.   0.   0.   0.]\n",
      " [  0. 232.   0.   0.   0.   0.   0.   0.]\n",
      " [  0.   0. 109.   0.   0.   0.  15.   0.]\n",
      " [  0.   0.   0. 109.   0.   0.   7.  21.]\n",
      " [  0.   8.   0.   0. 140.  37.   8.   0.]\n",
      " [  0.   8.   0.   0.   0.  73.   5.   0.]\n",
      " [  0.   0.   1.   8.   0.   0. 105.   0.]\n",
      " [  0.   0.   0.  43.   0.   0.   0. 169.]]\n",
      "(950, 4, 4, 512)\n",
      "(950, 8)\n",
      "baseline_confusion of annotator 11/59\n",
      "[[  0.   0.   0.   0.   0.  10.   0.   0.]\n",
      " [  0. 114.   0.   0.   1.   0.   0.   0.]\n",
      " [  0.   0. 102.   0.   0.  10.   0.   0.]\n",
      " [  0.   0.   4.  89.   0.  11.  21.   1.]\n",
      " [  0.   3.   0.   0. 169.   0.   0.   0.]\n",
      " [  0.  43.   0.   0.  30.  10.   0.   0.]\n",
      " [  0.   0.   4.  26.   0.   9. 129.   0.]\n",
      " [  0.   0.   0.  15.   0.   0.   0. 149.]]\n",
      "(150, 4, 4, 512)\n",
      "(150, 8)\n",
      "baseline_confusion of annotator 12/59\n",
      "[[ 0.  0.  0.  0. 10.  0.  0.  0.]\n",
      " [ 0. 20.  0.  0.  0.  0. 10.  0.]\n",
      " [ 0.  0. 10.  0.  0.  0.  0.  0.]\n",
      " [ 0.  0.  0. 50.  0.  0.  0.  0.]\n",
      " [ 0.  0.  0.  0. 10.  0.  0.  0.]\n",
      " [ 0.  0.  0.  0.  0. 10.  0.  0.]\n",
      " [ 0.  0.  0.  0.  0.  0. 20.  0.]\n",
      " [ 0.  0.  0. 10.  0.  0.  0.  0.]]\n",
      "(220, 4, 4, 512)\n",
      "(220, 8)\n",
      "baseline_confusion of annotator 13/59\n",
      "[[ 0.  0.  0.  0.  0.  0.  0.  0.]\n",
      " [ 0. 40.  0.  0.  0.  0.  0.  0.]\n",
      " [ 0.  0. 20. 20.  0.  0.  0.  0.]\n",
      " [ 0.  0.  0. 30.  0.  0.  0.  0.]\n",
      " [ 0.  0.  0.  0. 40.  0.  0.  0.]\n",
      " [ 0.  0.  0.  0.  0. 10.  0.  0.]\n",
      " [ 0.  0.  0. 40.  0.  0.  0. 10.]\n",
      " [ 0.  0.  0.  0.  0.  0.  0. 10.]]\n",
      "(260, 4, 4, 512)\n",
      "(260, 8)\n",
      "baseline_confusion of annotator 14/59\n",
      "[[ 0.  0.  0.  0.  0.  0.  0.  0.]\n",
      " [ 0. 60.  0.  0.  0.  0.  0.  0.]\n",
      " [ 0.  0. 40.  0.  0.  0.  0.  0.]\n",
      " [ 0.  0.  0. 47.  0.  0.  0.  0.]\n",
      " [ 0.  0.  0.  0. 40.  8.  0.  0.]\n",
      " [ 0.  0.  0.  0.  0. 12.  0.  0.]\n",
      " [ 0.  0.  0. 33.  0.  0.  0.  0.]\n",
      " [ 0.  0.  0.  0.  0.  0.  0. 20.]]\n",
      "(580, 4, 4, 512)\n",
      "(580, 8)\n",
      "baseline_confusion of annotator 15/59\n",
      "[[  0.   0.   0.   0.   0.   0.   0.   0.]\n",
      " [  0.  60.   0.   0.   8.   3.   0.   0.]\n",
      " [  0.   0.  30.   0.   0.   0.  10.   0.]\n",
      " [  0.   0.   0. 104.   0.   0.   0.  10.]\n",
      " [  0.   0.   0.   0. 118.   0.   0.   0.]\n",
      " [  0.   0.   0.  10.   4.  37.   0.   0.]\n",
      " [  0.   0.  10.  63.   0.   0.  20.   0.]\n",
      " [  0.   0.   0.   3.   0.   0.   0.  90.]]\n",
      "(880, 4, 4, 512)\n",
      "(880, 8)\n",
      "baseline_confusion of annotator 16/59\n",
      "[[  0.   0.   0.   0.   0.   0.   0.   0.]\n",
      " [  0. 158.   0.   0.   0.   0.   0.   0.]\n",
      " [  0.   0.  50.   0.   0.   0.   0.   0.]\n",
      " [  0.   0.   0.  20.   0.   0.  10.  13.]\n",
      " [  0.   2.   0.   0. 190.   0.   0.   0.]\n",
      " [  0.   0.  10.   0.   0. 130.   0.   0.]\n",
      " [  0.   0.   0.   0.   0.   0. 150.   0.]\n",
      " [  0.   0.   0.  10.   0.   0.   0. 137.]]\n",
      "(780, 4, 4, 512)\n",
      "(780, 8)\n",
      "baseline_confusion of annotator 17/59\n",
      "[[  0.   0.   0.   0.   0.   0.   0.   0.]\n",
      " [  0.  60.   0.   0.   1.   0.   0.   0.]\n",
      " [  0.  10.  47.   0.   0.   0.  25.   0.]\n",
      " [  0.   0.   9.  30.  10.   0.  67.  26.]\n",
      " [  0.   0.   4.   0. 135.   0.   0.   0.]\n",
      " [  0.   0.   0.   0.  34.  80.   5.   0.]\n",
      " [  0.   0.   0.  10.   0.   0. 103.   0.]\n",
      " [  0.   0.   0.   0.   0.   0.   0. 124.]]\n",
      "(780, 4, 4, 512)\n",
      "(780, 8)\n",
      "baseline_confusion of annotator 18/59\n",
      "[[  0.   0.   0.   0.   0.  10.   0.   0.]\n",
      " [  0.  72.   0.   0.  10.   0.  10.   0.]\n",
      " [  0.   0.  50.   0.   0.   0.   0.   0.]\n",
      " [  0.   0.   0.  54.   0.   0.  12.  10.]\n",
      " [  0.   8.   0.   0. 191.   3.   0.   0.]\n",
      " [  0.   0.   0.   0.   9.  57.   0.   0.]\n",
      " [  0.   0.   0.   6.   0.   0. 148.   0.]\n",
      " [  0.   0.   0.   0.   0.   0.  10. 120.]]\n",
      "(1140, 4, 4, 512)\n",
      "(1140, 8)\n"
     ]
    }
   ],
   "source": [
    "baseline_confusion = []\n",
    "for a in range(N_ANNOT):\n",
    "    # get data, label, answer(noisy label) that the annotator labeled.\n",
    "    data_train_vgg16_a = data_train_vgg16[answers[:,a]>0]\n",
    "    print(data_train_vgg16_a.shape)\n",
    "    answers_a = answers[answers[:,a]>0,a]\n",
    "    answers_a_mv_bin = one_hot(answers_a, N_CLASSES)\n",
    "    print(answers_a_mv_bin.shape)\n",
    "    model_a = build_base_model()\n",
    "    model_a.fit(data_train_vgg16_a, answers_a_mv_bin, epochs=N_EPOCHS, shuffle=True, batch_size=20, verbose=0)\n",
    "    baseline_predict_a = model.predict(data_train_vgg16_a,batch_size=BATCH_SIZE)\n",
    "    baseline_predict_a = np.argmax(baseline_predict_a, axis=-1)\n",
    "    baseline_confusion_a = np.zeros((N_CLASSES, N_CLASSES))\n",
    "    for n, p in zip(answers_a, baseline_predict_a):\n",
    "        baseline_confusion_a[p, n] += 1.\n",
    "    print('baseline_confusion of annotator %d/%d'%(a, N_ANNOT))\n",
    "    print(baseline_confusion_a)\n",
    "    baseline_confusion.append(baseline_confusion_a)"
   ]
  },
  {
   "cell_type": "code",
   "execution_count": null,
   "metadata": {
    "collapsed": true
   },
   "outputs": [],
   "source": []
  },
  {
   "cell_type": "code",
   "execution_count": 32,
   "metadata": {},
   "outputs": [
    {
     "data": {
      "text/plain": [
       "array([  0.,   0.,   0.,  30.,   0.,   0.,   0., 100.])"
      ]
     },
     "execution_count": 32,
     "metadata": {},
     "output_type": "execute_result"
    }
   ],
   "source": []
  },
  {
   "cell_type": "code",
   "execution_count": 18,
   "metadata": {
    "collapsed": true
   },
   "outputs": [],
   "source": []
  },
  {
   "cell_type": "code",
   "execution_count": null,
   "metadata": {
    "collapsed": true
   },
   "outputs": [],
   "source": [
    "model = build_base_model()\n",
    "\n",
    "# add crowds layer on top of the base model\n",
    "model.add(CrowdsClassification(N_CLASSES, N_ANNOT, conn_type=\"VW\"))\n",
    "\n",
    "# instantiate specialized masked loss to handle missing answers\n",
    "loss = MaskedMultiCrossEntropy().loss\n",
    "\n",
    "# compile model with masked loss and train\n",
    "model.compile(optimizer='adam', loss=loss)\n",
    "model.fit(data_train_vgg16, answers_bin_missings, epochs=N_EPOCHS, shuffle=True, batch_size=BATCH_SIZE, verbose=2)"
   ]
  },
  {
   "cell_type": "code",
   "execution_count": 14,
   "metadata": {},
   "outputs": [
    {
     "data": {
      "text/plain": [
       "array([[[9.99999999e-01, 9.99999997e-01, 9.99999999e-01, ...,\n",
       "         1.25000000e-01, 1.25000000e-01, 1.25000000e-01],\n",
       "        [8.33333333e-11, 4.99999998e-10, 1.25000000e-10, ...,\n",
       "         1.25000000e-01, 1.25000000e-01, 1.25000000e-01],\n",
       "        [8.33333333e-11, 4.99999998e-10, 1.25000000e-10, ...,\n",
       "         1.25000000e-01, 1.25000000e-01, 1.25000000e-01],\n",
       "        ...,\n",
       "        [8.33333333e-11, 4.99999998e-10, 1.25000000e-10, ...,\n",
       "         1.25000000e-01, 1.25000000e-01, 1.25000000e-01],\n",
       "        [8.33333333e-11, 4.99999998e-10, 1.25000000e-10, ...,\n",
       "         1.25000000e-01, 1.25000000e-01, 1.25000000e-01],\n",
       "        [8.33333333e-11, 4.99999998e-10, 1.25000000e-10, ...,\n",
       "         1.25000000e-01, 1.25000000e-01, 1.25000000e-01]],\n",
       "\n",
       "       [[7.69230769e-11, 9.99999992e-10, 9.99999999e-11, ...,\n",
       "         4.99999998e-10, 1.25000000e-01, 9.99999992e-10],\n",
       "        [9.23076923e-01, 9.99999993e-01, 4.00000000e-01, ...,\n",
       "         9.99999997e-01, 1.25000000e-01, 9.99999993e-01],\n",
       "        [7.69230769e-11, 9.99999992e-10, 1.00000000e-01, ...,\n",
       "         4.99999998e-10, 1.25000000e-01, 9.99999992e-10],\n",
       "        ...,\n",
       "        [7.69230769e-11, 9.99999992e-10, 1.00000000e-01, ...,\n",
       "         4.99999998e-10, 1.25000000e-01, 9.99999992e-10],\n",
       "        [7.69230769e-11, 9.99999992e-10, 9.99999999e-11, ...,\n",
       "         4.99999998e-10, 1.25000000e-01, 9.99999992e-10],\n",
       "        [7.69230769e-11, 9.99999992e-10, 9.99999999e-11, ...,\n",
       "         4.99999998e-10, 1.25000000e-01, 9.99999992e-10]],\n",
       "\n",
       "       [[1.11111111e-10, 4.99999998e-10, 1.25000000e-10, ...,\n",
       "         1.25000000e-01, 1.25000000e-01, 1.25000000e-01],\n",
       "        [1.11111111e-10, 4.99999998e-10, 1.25000000e-10, ...,\n",
       "         1.25000000e-01, 1.25000000e-01, 1.25000000e-01],\n",
       "        [7.77777777e-01, 9.99999997e-01, 3.75000000e-01, ...,\n",
       "         1.25000000e-01, 1.25000000e-01, 1.25000000e-01],\n",
       "        ...,\n",
       "        [1.11111111e-10, 4.99999998e-10, 1.25000000e-10, ...,\n",
       "         1.25000000e-01, 1.25000000e-01, 1.25000000e-01],\n",
       "        [1.11111111e-01, 4.99999998e-10, 5.00000000e-01, ...,\n",
       "         1.25000000e-01, 1.25000000e-01, 1.25000000e-01],\n",
       "        [1.11111111e-10, 4.99999998e-10, 1.25000000e-10, ...,\n",
       "         1.25000000e-01, 1.25000000e-01, 1.25000000e-01]],\n",
       "\n",
       "       ...,\n",
       "\n",
       "       [[5.55555556e-02, 4.99999998e-10, 2.14285714e-01, ...,\n",
       "         1.25000000e-01, 4.99999998e-10, 1.25000000e-01],\n",
       "        [1.66666667e-01, 4.99999998e-10, 7.14285714e-11, ...,\n",
       "         1.25000000e-01, 4.99999998e-10, 1.25000000e-01],\n",
       "        [5.55555555e-11, 4.99999998e-10, 7.14285714e-11, ...,\n",
       "         1.25000000e-01, 4.99999998e-10, 1.25000000e-01],\n",
       "        ...,\n",
       "        [5.55555555e-01, 4.99999999e-01, 5.00000000e-01, ...,\n",
       "         1.25000000e-01, 9.99999997e-01, 1.25000000e-01],\n",
       "        [5.55555555e-11, 4.99999998e-10, 7.14285714e-11, ...,\n",
       "         1.25000000e-01, 4.99999998e-10, 1.25000000e-01],\n",
       "        [5.55555555e-11, 4.99999998e-10, 7.14285714e-11, ...,\n",
       "         1.25000000e-01, 4.99999998e-10, 1.25000000e-01]],\n",
       "\n",
       "       [[1.11111111e-10, 9.99999992e-10, 2.00000000e-10, ...,\n",
       "         4.99999998e-10, 9.99999992e-10, 1.25000000e-01],\n",
       "        [1.11111111e-10, 9.99999992e-10, 2.00000000e-10, ...,\n",
       "         4.99999998e-10, 9.99999992e-10, 1.25000000e-01],\n",
       "        [1.11111111e-10, 9.99999992e-10, 2.00000000e-10, ...,\n",
       "         4.99999998e-10, 9.99999992e-10, 1.25000000e-01],\n",
       "        ...,\n",
       "        [1.11111111e-10, 9.99999992e-10, 2.00000000e-10, ...,\n",
       "         4.99999998e-10, 9.99999992e-10, 1.25000000e-01],\n",
       "        [7.77777777e-01, 9.99999993e-01, 7.99999999e-01, ...,\n",
       "         9.99999997e-01, 9.99999993e-01, 1.25000000e-01],\n",
       "        [1.11111111e-10, 9.99999992e-10, 2.00000000e-10, ...,\n",
       "         4.99999998e-10, 9.99999992e-10, 1.25000000e-01]],\n",
       "\n",
       "       [[7.69230769e-11, 1.25000000e-01, 1.25000000e-10, ...,\n",
       "         9.99999992e-10, 9.99999992e-10, 9.99999992e-10],\n",
       "        [7.69230769e-11, 1.25000000e-01, 1.25000000e-10, ...,\n",
       "         9.99999992e-10, 9.99999992e-10, 9.99999992e-10],\n",
       "        [7.69230769e-11, 1.25000000e-01, 1.25000000e-10, ...,\n",
       "         9.99999992e-10, 9.99999992e-10, 9.99999992e-10],\n",
       "        ...,\n",
       "        [7.69230769e-11, 1.25000000e-01, 1.25000000e-10, ...,\n",
       "         9.99999992e-10, 9.99999992e-10, 9.99999992e-10],\n",
       "        [7.69230769e-11, 1.25000000e-01, 1.25000000e-10, ...,\n",
       "         9.99999992e-10, 9.99999992e-10, 9.99999992e-10],\n",
       "        [7.69230769e-01, 1.25000000e-01, 9.99999999e-01, ...,\n",
       "         9.99999993e-01, 9.99999992e-10, 9.99999992e-10]]])"
      ]
     },
     "execution_count": 14,
     "metadata": {},
     "output_type": "execute_result"
    }
   ],
   "source": [
    "compute_conf_mats()"
   ]
  },
  {
   "cell_type": "markdown",
   "metadata": {},
   "source": [
    "# Compare the weights learned by the crowds layer for each annotator with their true confution matrices\n",
    "\n",
    "First, compute true confusion matrices:"
   ]
  },
  {
   "cell_type": "code",
   "execution_count": 13,
   "metadata": {
    "collapsed": true
   },
   "outputs": [],
   "source": [
    "def compute_conf_mats():\n",
    "    conf_mats = np.zeros((N_CLASSES,N_CLASSES,N_ANNOT)) + 0.00000001\n",
    "    num_answers = np.zeros((N_CLASSES,N_ANNOT)) + (0.00000001 * N_CLASSES)\n",
    "    for i in range(len(answers)):\n",
    "        for r in range(N_ANNOT):\n",
    "            if answers[i][r] != -1:\n",
    "                num_answers[labels_train[i],r] += 1\n",
    "                conf_mats[labels_train[i],answers[i][r],r] += 1\n",
    "    for r in range(N_ANNOT):\n",
    "        for c in range(N_CLASSES):\n",
    "            for c2 in range(N_CLASSES):\n",
    "                conf_mats[c,c2,r] = conf_mats[c,c2,r] / num_answers[c,r]\n",
    "    return conf_mats"
   ]
  },
  {
   "cell_type": "markdown",
   "metadata": {},
   "source": [
    "Auxiliary function that make a visual comparison:"
   ]
  },
  {
   "cell_type": "code",
   "execution_count": 51,
   "metadata": {
    "collapsed": true
   },
   "outputs": [],
   "source": [
    "def compare_conf_mats(true_conf_mat, weights):\n",
    "    # normalize weights matrix between 0 and 1\n",
    "    w_mat = (np.transpose(weights) + np.abs(weights.min()))\n",
    "    w_mat = w_mat / w_mat.max()\n",
    "    \n",
    "    sp1 = plt.subplot(1,2,1)\n",
    "    plt.imshow(true_conf_mat, interpolation='nearest', cmap=cm.YlOrRd)\n",
    "    plt.title(\"True\")\n",
    "\n",
    "    sp = plt.subplot(1,2,2)\n",
    "    plt.imshow(w_mat, interpolation='nearest', cmap=cm.YlOrRd)\n",
    "    plt.title(\"Estimated\")\n",
    "\n",
    "    plt.show()"
   ]
  },
  {
   "cell_type": "markdown",
   "metadata": {},
   "source": [
    "Make comparison for various annotators:"
   ]
  },
  {
   "cell_type": "code",
   "execution_count": 60,
   "metadata": {},
   "outputs": [
    {
     "data": {
      "text/plain": [
       "array([[9.99999999e-01, 8.33333333e-11, 8.33333333e-11, 8.33333333e-11,\n",
       "        8.33333333e-11, 8.33333333e-11, 8.33333333e-11, 8.33333333e-11],\n",
       "       [7.69230769e-11, 9.23076923e-01, 7.69230769e-11, 7.69230769e-11,\n",
       "        7.69230770e-02, 7.69230769e-11, 7.69230769e-11, 7.69230769e-11],\n",
       "       [1.11111111e-10, 1.11111111e-10, 7.77777777e-01, 1.11111111e-01,\n",
       "        1.11111111e-10, 1.11111111e-10, 1.11111111e-01, 1.11111111e-10],\n",
       "       [7.14285714e-11, 7.14285714e-11, 7.14285714e-11, 7.85714285e-01,\n",
       "        7.14285714e-11, 7.14285714e-11, 2.14285714e-01, 7.14285714e-11],\n",
       "       [5.00000000e-11, 5.00000000e-11, 5.00000000e-11, 5.00000000e-11,\n",
       "        1.00000000e+00, 5.00000000e-11, 5.00000000e-11, 5.00000000e-11],\n",
       "       [5.55555556e-02, 1.66666667e-01, 5.55555555e-11, 5.55555555e-11,\n",
       "        2.22222222e-01, 5.55555555e-01, 5.55555555e-11, 5.55555555e-11],\n",
       "       [1.11111111e-10, 1.11111111e-10, 1.11111111e-10, 2.22222222e-01,\n",
       "        1.11111111e-10, 1.11111111e-10, 7.77777777e-01, 1.11111111e-10],\n",
       "       [7.69230769e-11, 7.69230769e-11, 7.69230769e-11, 2.30769231e-01,\n",
       "        7.69230769e-11, 7.69230769e-11, 7.69230769e-11, 7.69230769e-01]])"
      ]
     },
     "execution_count": 60,
     "metadata": {},
     "output_type": "execute_result"
    }
   ],
   "source": [
    "conf_mats[:,:,0]"
   ]
  },
  {
   "cell_type": "code",
   "execution_count": 52,
   "metadata": {},
   "outputs": [
    {
     "ename": "IndexError",
     "evalue": "too many indices for array",
     "output_type": "error",
     "traceback": [
      "\u001b[0;31m---------------------------------------------------------------------------\u001b[0m",
      "\u001b[0;31mIndexError\u001b[0m                                Traceback (most recent call last)",
      "\u001b[0;32m<ipython-input-52-c080a53a56fe>\u001b[0m in \u001b[0;36m<module>\u001b[0;34m()\u001b[0m\n\u001b[0;32m----> 1\u001b[0;31m \u001b[0mcompare_conf_mats\u001b[0m\u001b[0;34m(\u001b[0m\u001b[0mconf_mats\u001b[0m\u001b[0;34m[\u001b[0m\u001b[0;34m:\u001b[0m\u001b[0;34m,\u001b[0m\u001b[0;34m:\u001b[0m\u001b[0;34m,\u001b[0m\u001b[0;36m1\u001b[0m\u001b[0;34m]\u001b[0m\u001b[0;34m,\u001b[0m \u001b[0mweights\u001b[0m\u001b[0;34m[\u001b[0m\u001b[0;36m0\u001b[0m\u001b[0;34m]\u001b[0m\u001b[0;34m[\u001b[0m\u001b[0;34m:\u001b[0m\u001b[0;34m,\u001b[0m\u001b[0;34m:\u001b[0m\u001b[0;34m,\u001b[0m\u001b[0;36m1\u001b[0m\u001b[0;34m]\u001b[0m\u001b[0;34m)\u001b[0m\u001b[0;34m\u001b[0m\u001b[0m\n\u001b[0m",
      "\u001b[0;31mIndexError\u001b[0m: too many indices for array"
     ]
    }
   ],
   "source": [
    "compare_conf_mats(conf_mats[:,:,1], weights[0][:,:,1])"
   ]
  },
  {
   "cell_type": "code",
   "execution_count": 31,
   "metadata": {},
   "outputs": [
    {
     "data": {
      "image/png": "[encoded data removed]",
      "text/plain": [
       "<matplotlib.figure.Figure at 0x141369d68>"
      ]
     },
     "metadata": {},
     "output_type": "display_data"
    }
   ],
   "source": [
    "compare_conf_mats(conf_mats[:,:,2], weights[0][:,:,2])"
   ]
  },
  {
   "cell_type": "code",
   "execution_count": 32,
   "metadata": {},
   "outputs": [
    {
     "data": {
      "image/png": "[encoded data removed]",
      "text/plain": [
       "<matplotlib.figure.Figure at 0x141545d30>"
      ]
     },
     "metadata": {},
     "output_type": "display_data"
    }
   ],
   "source": [
    "compare_conf_mats(conf_mats[:,:,9], weights[0][:,:,9])"
   ]
  },
  {
   "cell_type": "code",
   "execution_count": 33,
   "metadata": {},
   "outputs": [
    {
     "data": {
      "image/png": "[encoded data removed]",
      "text/plain": [
       "<matplotlib.figure.Figure at 0x1412d8d68>"
      ]
     },
     "metadata": {},
     "output_type": "display_data"
    }
   ],
   "source": [
    "compare_conf_mats(conf_mats[:,:,20], weights[0][:,:,20])"
   ]
  },
  {
   "cell_type": "code",
   "execution_count": 34,
   "metadata": {},
   "outputs": [
    {
     "data": {
      "image/png": "[encoded data removed]",
      "text/plain": [
       "<matplotlib.figure.Figure at 0x14152d9b0>"
      ]
     },
     "metadata": {},
     "output_type": "display_data"
    }
   ],
   "source": [
    "compare_conf_mats(conf_mats[:,:,23], weights[0][:,:,23])"
   ]
  },
  {
   "cell_type": "code",
   "execution_count": 35,
   "metadata": {},
   "outputs": [
    {
     "data": {
      "image/png": "[encoded data removed]",
      "text/plain": [
       "<matplotlib.figure.Figure at 0x13fc160b8>"
      ]
     },
     "metadata": {},
     "output_type": "display_data"
    }
   ],
   "source": [
    "compare_conf_mats(conf_mats[:,:,30], weights[0][:,:,30])"
   ]
  },
  {
   "cell_type": "code",
   "execution_count": 36,
   "metadata": {},
   "outputs": [
    {
     "data": {
      "image/png": "[encoded data removed]",
      "text/plain": [
       "<matplotlib.figure.Figure at 0x141702978>"
      ]
     },
     "metadata": {},
     "output_type": "display_data"
    }
   ],
   "source": [
    "compare_conf_mats(conf_mats[:,:,36], weights[0][:,:,36])"
   ]
  },
  {
   "cell_type": "code",
   "execution_count": 37,
   "metadata": {},
   "outputs": [
    {
     "data": {
      "image/png": "[encoded data removed]",
      "text/plain": [
       "<matplotlib.figure.Figure at 0x1417f0a58>"
      ]
     },
     "metadata": {},
     "output_type": "display_data"
    }
   ],
   "source": [
    "compare_conf_mats(conf_mats[:,:,39], weights[0][:,:,39])"
   ]
  },
  {
   "cell_type": "code",
   "execution_count": 38,
   "metadata": {},
   "outputs": [
    {
     "data": {
      "image/png": "[encoded data removed]",
      "text/plain": [
       "<matplotlib.figure.Figure at 0x14132d908>"
      ]
     },
     "metadata": {},
     "output_type": "display_data"
    }
   ],
   "source": [
    "compare_conf_mats(conf_mats[:,:,45], weights[0][:,:,45])"
   ]
  },
  {
   "cell_type": "code",
   "execution_count": 39,
   "metadata": {},
   "outputs": [
    {
     "data": {
      "image/png": "[encoded data removed]",
      "text/plain": [
       "<matplotlib.figure.Figure at 0x1417ddd30>"
      ]
     },
     "metadata": {},
     "output_type": "display_data"
    }
   ],
   "source": [
    "compare_conf_mats(conf_mats[:,:,56], weights[0][:,:,56])"
   ]
  },
  {
   "cell_type": "code",
   "execution_count": 40,
   "metadata": {},
   "outputs": [
    {
     "data": {
      "image/png": "[encoded data removed]",
      "text/plain": [
       "<matplotlib.figure.Figure at 0x13a2d7a20>"
      ]
     },
     "metadata": {},
     "output_type": "display_data"
    }
   ],
   "source": [
    "compare_conf_mats(conf_mats[:,:,58], weights[0][:,:,58])"
   ]
  },
  {
   "cell_type": "code",
   "execution_count": null,
   "metadata": {
    "collapsed": true
   },
   "outputs": [],
   "source": []
  }
 ],
 "metadata": {
  "kernelspec": {
   "display_name": "Python 3",
   "language": "python",
   "name": "python3"
  },
  "language_info": {
   "codemirror_mode": {
    "name": "ipython",
    "version": 3
   },
   "file_extension": ".py",
   "mimetype": "text/x-python",
   "name": "python",
   "nbconvert_exporter": "python",
   "pygments_lexer": "ipython3",
   "version": "3.6.2"
  }
 },
 "nbformat": 4,
 "nbformat_minor": 2
}
